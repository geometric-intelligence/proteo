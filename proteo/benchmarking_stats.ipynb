{
 "cells": [
  {
   "cell_type": "code",
   "execution_count": 1,
   "metadata": {},
   "outputs": [],
   "source": [
    "from models.gat_v4 import GATv4\n",
    "from models.readout import Readout\n",
    "from torch_geometric.nn import GAT, GCN, global_mean_pool\n",
    "from config_utils import CONFIG_FILE, Config, read_config_from_file"
   ]
  },
  {
   "cell_type": "code",
   "execution_count": 49,
   "metadata": {},
   "outputs": [],
   "source": [
    "fc_dim_choices = [[64, 128, 128, 32], [128, 256, 256, 64]]\n",
    "fc_dropout_choices = [0.1]\n",
    "fc_act_choices = ['tanh', 'elu']\n",
    "\n",
    "gat_v4_hidden_channels= [[8, 16], [64, 128]]\n",
    "gat_v4_heads= [[2, 2], [4, 4]]\n",
    "\n",
    "gat_num_layers= [2, 4, 6, 12]  # only for GAT and GCN\n",
    "gat_hidden_channels= [8, 32, 128, 1024]\n",
    "gat_heads= [2, 4]\n",
    "\n",
    "gcn_num_layers= [2, 4, 6, 12]  # only for GAT and GCN\n",
    "gcn_hidden_channels= [8, 32, 128, 512, 1024]\n",
    "\n",
    "mlp_channel_lists= [[1028], [1028,64], [1028,128], [1028,256,64]]\n",
    "dropout_choices= [0.1, 0.5]\n",
    "\n",
    "\n",
    "config = read_config_from_file(CONFIG_FILE)\n"
   ]
  },
  {
   "cell_type": "code",
   "execution_count": 50,
   "metadata": {},
   "outputs": [
    {
     "name": "stdout",
     "output_type": "stream",
     "text": [
      "Max number of parameters:  5985131\n",
      "Min number of parameters:  2846459\n"
     ]
    }
   ],
   "source": [
    "config_model = Config.parse_obj(getattr(config, \"gat-v4\"))\n",
    "fc_input_dim = config.num_nodes * len(config.which_layer)\n",
    "total_params_list_combined = []\n",
    "for hidden_channels in gat_v4_hidden_channels:\n",
    "    for heads in gat_v4_heads:\n",
    "        gat_v4_model = GATv4(\n",
    "            in_channels=1, \n",
    "            hidden_channels=hidden_channels,\n",
    "            out_channels=1,\n",
    "            heads=heads, \n",
    "            dropout=config.dropout,\n",
    "            act=config.act,\n",
    "            which_layer=config.which_layer,\n",
    "            use_layer_norm=config_model.use_layer_norm,\n",
    "            num_nodes=config.num_nodes,\n",
    "            weight_initializer=config_model.weight_initializer,\n",
    "        )\n",
    "        for fc_dim in fc_dim_choices:\n",
    "            for fc_dropout in fc_dropout_choices:\n",
    "                for fc_act in fc_act_choices:\n",
    "                    readout_model = Readout(\n",
    "                        feature_output_dim=config.num_nodes,\n",
    "                        which_layer=config.which_layer,\n",
    "                        fc_dim=fc_dim,\n",
    "                        fc_dropout=fc_dropout,\n",
    "                        fc_act=fc_act,\n",
    "                        out_channels=1,\n",
    "                        fc_input_dim=fc_input_dim,\n",
    "                        use_feature_encoder=True,\n",
    "                    )\n",
    "                    total_params_combined = sum(p.numel() for p in gat_v4_model.parameters()) + sum(p.numel() for p in readout_model.parameters())\n",
    "                    total_params_list_combined.append(total_params_combined)\n",
    "\n",
    "print(\"Max number of parameters: \", max(total_params_list_combined))\n",
    "print(\"Min number of parameters: \", min(total_params_list_combined))"
   ]
  },
  {
   "cell_type": "code",
   "execution_count": 51,
   "metadata": {},
   "outputs": [
    {
     "name": "stdout",
     "output_type": "stream",
     "text": [
      "Max number of parameters:  12502896\n",
      "Min number of parameters:  962908\n"
     ]
    }
   ],
   "source": [
    "config_model = Config.parse_obj(getattr(config, \"gat\"))\n",
    "fc_input_dim = (config.num_nodes * 2) - 1\n",
    "total_params_list_combined = []\n",
    "for num_layers in gat_num_layers:\n",
    "    for hidden_channels in gat_hidden_channels:\n",
    "        for heads in gat_heads:\n",
    "            gat_model = GAT(\n",
    "                in_channels=1,\n",
    "                num_layers=num_layers,\n",
    "                hidden_channels=hidden_channels,\n",
    "                out_channels=1,\n",
    "                heads=heads,\n",
    "                dropout=config.dropout,\n",
    "                act=config.act,\n",
    "            )\n",
    "            for fc_dim in fc_dim_choices:\n",
    "                for fc_dropout in fc_dropout_choices:\n",
    "                    for fc_act in fc_act_choices:\n",
    "                        readout_model = Readout(\n",
    "                            feature_output_dim=config.num_nodes // 3,\n",
    "                            which_layer=config.which_layer,\n",
    "                            fc_dim=fc_dim,\n",
    "                            fc_dropout=fc_dropout,\n",
    "                            fc_act=fc_act,\n",
    "                            out_channels=1,\n",
    "                            fc_input_dim=fc_input_dim,\n",
    "                        )\n",
    "                        total_params_combined = sum(p.numel() for p in gat_model.parameters()) + sum(p.numel() for p in readout_model.parameters())\n",
    "                        total_params_list_combined.append(total_params_combined)\n",
    "\n",
    "print(\"Max number of parameters: \", max(total_params_list_combined))\n",
    "print(\"Min number of parameters: \", min(total_params_list_combined))\n"
   ]
  },
  {
   "cell_type": "code",
   "execution_count": 52,
   "metadata": {},
   "outputs": [
    {
     "name": "stdout",
     "output_type": "stream",
     "text": [
      "Max number of parameters:  12477288\n",
      "Min number of parameters:  962880\n"
     ]
    }
   ],
   "source": [
    "config_model = Config.parse_obj(getattr(config, \"gcn\"))\n",
    "fc_input_dim = (config.num_nodes * 2) - 1\n",
    "total_params_list_combined = []\n",
    "for num_layers in gcn_num_layers:\n",
    "    for hidden_channels in gcn_hidden_channels:\n",
    "        gcn_model = GCN(\n",
    "            in_channels=1,\n",
    "            num_layers=num_layers,\n",
    "            hidden_channels=hidden_channels,\n",
    "            out_channels=1,\n",
    "            dropout=config.dropout,\n",
    "            act=config.act,\n",
    "        )\n",
    "        for fc_dim in fc_dim_choices:\n",
    "            for fc_dropout in fc_dropout_choices:\n",
    "                for fc_act in fc_act_choices:\n",
    "                    readout_model = Readout(\n",
    "                        feature_output_dim=config.num_nodes // 3,\n",
    "                        which_layer=config.which_layer,\n",
    "                        fc_dim=fc_dim,\n",
    "                        fc_dropout=fc_dropout,\n",
    "                        fc_act=fc_act,\n",
    "                        out_channels=1,\n",
    "                        fc_input_dim=fc_input_dim,\n",
    "                    )\n",
    "                    total_params_combined = sum(p.numel() for p in gcn_model.parameters()) + sum(p.numel() for p in readout_model.parameters())\n",
    "                    total_params_list_combined.append(total_params_combined)\n",
    "\n",
    "print(\"Max number of parameters: \", max(total_params_list_combined))\n",
    "print(\"Min number of parameters: \", min(total_params_list_combined))"
   ]
  },
  {
   "cell_type": "code",
   "execution_count": 53,
   "metadata": {},
   "outputs": [
    {
     "name": "stdout",
     "output_type": "stream",
     "text": [
      "Max number of parameters:  30414446\n",
      "Min number of parameters:  29856630\n"
     ]
    }
   ],
   "source": [
    "dropout = config.dropout\n",
    "fc_input_dim = (config.num_nodes * 2) -1\n",
    "total_params_list_combined = []\n",
    "for fc_dim in mlp_channel_lists:\n",
    "    for fc_dropout in dropout_choices:\n",
    "        for fc_act in fc_act_choices:\n",
    "            readout_model = Readout(\n",
    "                feature_output_dim=config.num_nodes//3,\n",
    "                which_layer=config.which_layer,\n",
    "                fc_dim=fc_dim,\n",
    "                fc_dropout=fc_dropout,\n",
    "                fc_act=fc_act,\n",
    "                out_channels=1,\n",
    "                fc_input_dim=fc_input_dim,\n",
    "            )\n",
    "            total_params_combined = sum(p.numel() for p in readout_model.parameters()) + sum(p.numel() for p in readout_model.parameters())\n",
    "            total_params_list_combined.append(total_params_combined)\n",
    "    \n",
    "\n",
    "print(\"Max number of parameters: \", max(total_params_list_combined))\n",
    "print(\"Min number of parameters: \", min(total_params_list_combined))"
   ]
  }
 ],
 "metadata": {
  "kernelspec": {
   "display_name": "proteo",
   "language": "python",
   "name": "python3"
  },
  "language_info": {
   "codemirror_mode": {
    "name": "ipython",
    "version": 3
   },
   "file_extension": ".py",
   "mimetype": "text/x-python",
   "name": "python",
   "nbconvert_exporter": "python",
   "pygments_lexer": "ipython3",
   "version": "3.11.10"
  }
 },
 "nbformat": 4,
 "nbformat_minor": 2
}
