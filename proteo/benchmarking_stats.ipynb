{
 "cells": [
  {
   "cell_type": "code",
   "execution_count": 1,
   "metadata": {},
   "outputs": [],
   "source": [
    "from models.gat_v4 import GATv4\n",
    "from torch_geometric.nn import GAT, GCN, global_mean_pool\n",
    "from torch_geometric.nn.models import MLP\n",
    "from config_utils import CONFIG_FILE, Config, read_config_from_file"
   ]
  },
  {
   "cell_type": "code",
   "execution_count": 10,
   "metadata": {},
   "outputs": [],
   "source": [
    "gat_v4_hidden_channels= [[8, 16], [32, 64], [64, 128]]\n",
    "gat_v4_heads= [[2, 3], [2, 2], [4, 4]]\n",
    "gat_v4_fc_dim= [[64, 128, 128, 32], [128, 256, 256, 64], [256, 512, 512, 128]]\n",
    "\n",
    "gat_num_layers= [2, 4, 6, 12, 18]  # only for GAT and GCN\n",
    "gat_hidden_channels= [8, 32, 128, 256, 512]\n",
    "gat_heads= [1, 2, 4, 8]\n",
    "\n",
    "gcn_num_layers= [2, 3, 4, 6, 12, 18]  # only for GAT and GCN\n",
    "gcn_hidden_channels= [8, 32, 128, 256, 512]\n",
    "mlp_channel_lists = [[7258, 1], [7258, 1028, 1], [7258, 128, 64, 1], [7258, 1028, 128, 1], [7258, 1028, 256, 64, 1], [7258, 1028, 512, 128, 1], [7258, 1028, 256, 128, 64, 1]]\n",
    "\n",
    "\n",
    "config = read_config_from_file(CONFIG_FILE)\n"
   ]
  },
  {
   "cell_type": "code",
   "execution_count": 3,
   "metadata": {},
   "outputs": [
    {
     "name": "stdout",
     "output_type": "stream",
     "text": [
      "Max number of parameters:  3155207\n",
      "Min number of parameters:  2890007\n"
     ]
    }
   ],
   "source": [
    "config_model = Config.parse_obj(getattr(config, \"gat-v4\"))\n",
    "total_params_list = []\n",
    "for hidden_channels in gat_v4_hidden_channels:\n",
    "    for heads in gat_v4_heads:\n",
    "        for fc_dim in gat_v4_fc_dim:\n",
    "                model = GATv4(\n",
    "                in_channels=1, \n",
    "                hidden_channels=hidden_channels,\n",
    "                out_channels=1,\n",
    "                heads=heads, \n",
    "                dropout=config.dropout,\n",
    "                act=config.act,\n",
    "                which_layer=config_model.which_layer,\n",
    "                use_layer_norm=config_model.use_layer_norm,\n",
    "                fc_dim=config_model.fc_dim,\n",
    "                fc_dropout=config_model.fc_dropout,\n",
    "                fc_act=config_model.fc_act,\n",
    "                num_nodes=config.num_nodes,\n",
    "                weight_initializer=config_model.weight_initializer,\n",
    "                use_master_nodes=config.use_master_nodes,\n",
    "                master_nodes=config.master_nodes,\n",
    "            )\n",
    "                total_params = sum(p.numel() for p in model.parameters())\n",
    "                total_params_list.append(total_params)\n",
    "print(\"Max number of parameters: \", max(total_params_list))\n",
    "print(\"Min number of parameters: \", min(total_params_list))"
   ]
  },
  {
   "cell_type": "code",
   "execution_count": 9,
   "metadata": {},
   "outputs": [
    {
     "name": "stdout",
     "output_type": "stream",
     "text": [
      "Max number of parameters:  4225041\n",
      "Min number of parameters:  43\n"
     ]
    }
   ],
   "source": [
    "config_model = Config.parse_obj(getattr(config, \"gat\"))\n",
    "total_params_list = []\n",
    "for num_layers in gat_num_layers:\n",
    "    for hidden_channels in gat_hidden_channels:\n",
    "        for heads in gat_heads:\n",
    "            model = GAT(\n",
    "                in_channels=1,\n",
    "                num_layers=num_layers,\n",
    "                hidden_channels=hidden_channels,\n",
    "                out_channels=1,\n",
    "                heads=heads,\n",
    "                dropout=config.dropout,\n",
    "                act=config.act,\n",
    "            )\n",
    "            total_params = sum(p.numel() for p in model.parameters())\n",
    "            total_params_list.append(total_params)\n",
    "print(\"Max number of parameters: \", max(total_params_list))\n",
    "print(\"Min number of parameters: \", min(total_params_list))\n"
   ]
  },
  {
   "cell_type": "code",
   "execution_count": 5,
   "metadata": {},
   "outputs": [
    {
     "name": "stdout",
     "output_type": "stream",
     "text": [
      "Max number of parameters:  4204033\n",
      "Min number of parameters:  25\n"
     ]
    }
   ],
   "source": [
    "config_model = Config.parse_obj(getattr(config, \"gcn\"))\n",
    "total_params_list = []\n",
    "for layer in gcn_num_layers:\n",
    "    for hidden_channels in gcn_hidden_channels:\n",
    "        model = GCN(\n",
    "            in_channels=1,\n",
    "            num_layers=layer,\n",
    "            hidden_channels=hidden_channels,\n",
    "            out_channels=1,\n",
    "            dropout=config.dropout,\n",
    "            act=config.act,\n",
    "        )\n",
    "        total_params = sum(p.numel() for p in model.parameters())\n",
    "        total_params_list.append(total_params)\n",
    "print(\"Max number of parameters: \", max(total_params_list))\n",
    "print(\"Min number of parameters: \", min(total_params_list))"
   ]
  },
  {
   "cell_type": "code",
   "execution_count": 6,
   "metadata": {},
   "outputs": [
    {
     "name": "stdout",
     "output_type": "stream",
     "text": [
      "Max number of parameters:  8058229\n",
      "Min number of parameters:  7259\n"
     ]
    }
   ],
   "source": [
    "dropout = config.dropout\n",
    "config_model = Config.parse_obj(getattr(config, \"mlp\"))\n",
    "total_params_list = []\n",
    "for channel_list in mlp_channel_lists:\n",
    "    dropout = [dropout] * (len(channel_list) - 1)\n",
    "    model = MLP(\n",
    "        channel_list=channel_list,\n",
    "        dropout=dropout,\n",
    "        act=config.act,\n",
    "        norm=config_model.norm,\n",
    "        plain_last=config_model.plain_last\n",
    "    )\n",
    "    total_params = sum(p.numel() for p in model.parameters())\n",
    "    total_params_list.append(total_params)\n",
    "print(\"Max number of parameters: \", max(total_params_list))\n",
    "print(\"Min number of parameters: \", min(total_params_list))"
   ]
  }
 ],
 "metadata": {
  "kernelspec": {
   "display_name": "proteo",
   "language": "python",
   "name": "python3"
  },
  "language_info": {
   "codemirror_mode": {
    "name": "ipython",
    "version": 3
   },
   "file_extension": ".py",
   "mimetype": "text/x-python",
   "name": "python",
   "nbconvert_exporter": "python",
   "pygments_lexer": "ipython3",
   "version": "3.11.10"
  }
 },
 "nbformat": 4,
 "nbformat_minor": 2
}
