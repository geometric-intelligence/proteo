{
 "cells": [
  {
   "cell_type": "code",
   "execution_count": 2,
   "metadata": {},
   "outputs": [
    {
     "ename": "ModuleNotFoundError",
     "evalue": "No module named 'config_utils'",
     "output_type": "error",
     "traceback": [
      "\u001b[0;31m---------------------------------------------------------------------------\u001b[0m",
      "\u001b[0;31mModuleNotFoundError\u001b[0m                       Traceback (most recent call last)",
      "Cell \u001b[0;32mIn[2], line 2\u001b[0m\n\u001b[1;32m      1\u001b[0m \u001b[38;5;28;01mimport\u001b[39;00m \u001b[38;5;21;01mos\u001b[39;00m\n\u001b[0;32m----> 2\u001b[0m \u001b[38;5;28;01mfrom\u001b[39;00m \u001b[38;5;21;01mconfig_utils\u001b[39;00m \u001b[38;5;28;01mimport\u001b[39;00m CONFIG_FILE, Config, read_config_from_file\n\u001b[1;32m      3\u001b[0m \u001b[38;5;28;01mimport\u001b[39;00m \u001b[38;5;21;01mpandas\u001b[39;00m \u001b[38;5;28;01mas\u001b[39;00m \u001b[38;5;21;01mpd\u001b[39;00m\n\u001b[1;32m      4\u001b[0m \u001b[38;5;28;01mimport\u001b[39;00m \u001b[38;5;21;01mstatsmodels\u001b[39;00m\u001b[38;5;21;01m.\u001b[39;00m\u001b[38;5;21;01mapi\u001b[39;00m \u001b[38;5;28;01mas\u001b[39;00m \u001b[38;5;21;01msm\u001b[39;00m\n",
      "\u001b[0;31mModuleNotFoundError\u001b[0m: No module named 'config_utils'"
     ]
    }
   ],
   "source": [
    "import os\n",
    "from config_utils import CONFIG_FILE, Config, read_config_from_file\n",
    "import pandas as pd\n",
    "import statsmodels.api as sm"
   ]
  },
  {
   "cell_type": "code",
   "execution_count": 2,
   "metadata": {},
   "outputs": [
    {
     "ename": "NameError",
     "evalue": "name 'read_config_from_file' is not defined",
     "output_type": "error",
     "traceback": [
      "\u001b[0;31m---------------------------------------------------------------------------\u001b[0m",
      "\u001b[0;31mNameError\u001b[0m                                 Traceback (most recent call last)",
      "Cell \u001b[0;32mIn[2], line 1\u001b[0m\n\u001b[0;32m----> 1\u001b[0m config \u001b[38;5;241m=\u001b[39m \u001b[43mread_config_from_file\u001b[49m(CONFIG_FILE)\n\u001b[1;32m      2\u001b[0m data_path \u001b[38;5;241m=\u001b[39m os\u001b[38;5;241m.\u001b[39mpath\u001b[38;5;241m.\u001b[39mjoin(config\u001b[38;5;241m.\u001b[39mdata_dir, config\u001b[38;5;241m.\u001b[39mraw_file_name)\n\u001b[1;32m      3\u001b[0m df \u001b[38;5;241m=\u001b[39m pd\u001b[38;5;241m.\u001b[39mread_csv(data_path)\n",
      "\u001b[0;31mNameError\u001b[0m: name 'read_config_from_file' is not defined"
     ]
    }
   ],
   "source": [
    "config = read_config_from_file(CONFIG_FILE)\n",
    "data_path = os.path.join(config.data_dir, config.raw_file_name)\n",
    "df = pd.read_csv(data_path)\n",
    "\n",
    "# Filter by Carrier.Status == \"CTL\"\n",
    "df_ctl = df[df['Carrier.Status'] == 'CTL']\n",
    "\n",
    "# Extract protein columns (ending with |PLASMA or |CSF)\n",
    "protein_columns = [col for col in df_ctl.columns if col.endswith('|PLASMA') or col.endswith('|CSF')]\n",
    "\n",
    "# Initialize a dictionary to store regression results for each protein\n",
    "regression_results = {}\n",
    "\n",
    "# Perform linear regression for each protein against AGE_AT_VISIT\n",
    "for protein in protein_columns:\n",
    "    X = df_ctl['AGE_AT_VISIT']  # Independent variable (age)\n",
    "    y = df_ctl[protein]  # Dependent variable (protein value)\n",
    "    \n",
    "    # Add constant to the independent variable for intercept\n",
    "    X = sm.st(X)\n",
    "\n",
    "    # Fit the regression model\n",
    "    model = sm.OLS(y, X).fit()\n",
    "\n",
    "    # Store the results (e.g., slope and intercept)\n",
    "    regression_results[protein] = {\n",
    "        'intercept': model.params['const'],\n",
    "        'age_coefficient': model.params['AGE_AT_VISIT'],\n",
    "        'p_value': model.pvalues['AGE_AT_VISIT'],\n",
    "        'r_squared': model.rsquared\n",
    "    }\n",
    "\n",
    "# Print the regression results\n",
    "for protein, result in regression_results.items():\n",
    "    print(f\"Protein: {protein}\")\n",
    "    print(f\"  Intercept: {result['intercept']}\")\n",
    "    print(f\"  Age Coefficient: {result['age_coefficient']}\")\n",
    "    print(f\"  P-value: {result['p_value']}\")\n",
    "    print(f\"  R-squared: {result['r_squared']}\\n\")\n"
   ]
  }
 ],
 "metadata": {
  "kernelspec": {
   "display_name": "proteo",
   "language": "python",
   "name": "python3"
  },
  "language_info": {
   "codemirror_mode": {
    "name": "ipython",
    "version": 3
   },
   "file_extension": ".py",
   "mimetype": "text/x-python",
   "name": "python",
   "nbconvert_exporter": "python",
   "pygments_lexer": "ipython3",
   "version": "3.11.9"
  }
 },
 "nbformat": 4,
 "nbformat_minor": 2
}
