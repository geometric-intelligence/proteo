{
 "cells": [
  {
   "cell_type": "code",
   "execution_count": 2,
   "metadata": {},
   "outputs": [],
   "source": [
    "import train as proteo_train\n",
    "import os\n",
    "import torch\n",
    "import torch.nn.functional as F\n",
    "import torch_geometric\n",
    "from proteo.datasets.ftd import FTDDataset, reverse_log_transform\n",
    "import torch.nn.functional as F\n",
    "import pytorch_lightning as pl\n",
    "from scipy.stats import zscore\n",
    "from proteo.checkpoint_analysis import full_load_and_run_and_convert, process_checkpoints\n",
    "%load_ext autoreload\n",
    "%autoreload 2"
   ]
  },
  {
   "cell_type": "code",
   "execution_count": 3,
   "metadata": {},
   "outputs": [
    {
     "name": "stdout",
     "output_type": "stream",
     "text": [
      "weight_decay=0 gat_v4_fc_act=['relu', 'tanh', 'sigmoid', 'leaky_relu', 'elu'] log_every_n_steps=10 mlp={'channel_list': [7261, 32, 64, 128, 1], 'norm': 'batch_norm', 'plain_last': True} use_progress_bar=True accumulate_grad_batches=1 checkpoint_dir='/home/lcornelis/code/proteo/outputs/checkpoints' batch_size_choices=[8, 16, 32, 50] grace_period=30 lr_min=1e-06 gat_v4_hidden_channels=[[8, 16], [32, 64], [64, 128]] gat_num_layers=[2, 4, 6, 12] gat-v4={'hidden_channels': [32, 64], 'heads': [2, 3], 'use_layer_norm': True, 'which_layer': ['layer1', 'layer2', 'layer3', 'sex', 'mutation', 'age'], 'fc_dim': [128, 256, 256, 64], 'fc_dropout': 0.1, 'fc_act': 'elu', 'weight_initializer': 'orthogonal', 'num_layers': None} adj_thresh=0.7 gat={'num_layers': 2, 'hidden_channels': 256, 'heads': 4, 'v2': True} lr_max=0.1 output_dir='/home/lcornelis/code/proteo/outputs' cpu_per_worker=1 optimizer='Adam' use_master_nodes=False lr_scheduler_choices=['LambdaLR', 'ReduceLROnPlateau', 'ExponentialLR', 'StepLR', 'CosineAnnealingLR'] trainer_accelerator='gpu' nodes_count=1 mutation_choices=[['GRN', 'MAPT', 'C9orf72', 'CTL']] mlp_plain_last=[True, False] model='gat-v4' root_dir='/home/lcornelis/code/proteo' num_workers=16 adj_thresh_choices=[0.1, 0.2, 0.35, 0.5, 0.7, 0.9] precision='32-true' num_nodes=7258 lr_scheduler='ExponentialLR' checkpoint_every_n_epochs_train=1 gat_v4_heads=[[2, 3], [2, 2], [4, 4]] modality='csf' gcn_num_layers=[2, 3, 4] epochs=300 error_protein_file_name='bimodal_aptamers_for_removal.xlsx' gat_v4_weight_initializer=['xavier', 'kaiming', 'orthogonal', 'truncated_normal', 'uniform'] l1_lambda_min=1e-05 wandb_offline=False sex_choices=[['M', 'F']] wgcna_mergeCutHeight=0.25 pin_memory=True ray_results_dir='/data/lcornelis/outputs/ray_results' ray_tmp_dir='/data/lcornelis/outputs/ray_tmp' model_grid_search=['gat-v4'] gat_v4_fc_dim=[[64, 128, 128, 32], [128, 256, 256, 64], [256, 512, 512, 128]] lr=0.008499956996440154 modality_choices=['csf'] master_nodes=['sex', 'mutation', 'age'] y_val='nfl' y_val_choices=['nfl'] dropout_choices=[0, 0.05, 0.1, 0.2, 0.3, 0.5] gcn_hidden_channels=[8, 32, 128] gat_hidden_channels=[8, 32, 128, 256] dataset_name='ftd' act='relu' wgcna_minModuleSize=10 dropout=0.1 l1_lambda=0.00021967343409640293 reduction_factor=6 act_choices=['relu', 'tanh', 'sigmoid', 'leaky_relu', 'elu'] sync_batchnorm=False project='proteo' num_samples=300 data_dir='/data/lcornelis/data/data_louisa' sex=['M', 'F'] sex_specific_adj=True num_nodes_choices=[7258] mlp_norms=['batch_norm', 'layer_norm'] devices=[0, 1] seed=446 mutation=['GRN', 'MAPT', 'C9orf72', 'CTL'] gat_heads=[1, 2, 4, 8] gpu_per_worker=1 wandb_tmp_dir='/home/lcornelis/code/proteo/outputs/wandb_tmp' l1_lambda_max=0.1 mlp_channel_lists=[[7261, 1], [7261, 1028, 1], [7261, 128, 64, 1], [7261, 1028, 128, 1], [7261, 1028, 256, 64, 1], [7261, 1028, 512, 128, 1], [7261, 1028, 256, 128, 64, 1]] raw_file_name='ALLFTD_dataset_for_nina_louisa_071124_age_adjusted.csv' wandb_api_key_path='wandb_api_key.txt' use_gpu=True gat_v4_fc_dropout=[0.1, 0.2, 0.5] batch_size=32 gcn={'num_layers': 3, 'hidden_channels': 32} num_to_keep=3 channel_list=None norm=None plain_last=None\n",
      "Loading datasets from /data/lcornelis/data/data_louisa\n",
      "Absolute path: /data/lcornelis/data/data_louisa\n",
      "Directory contents: ['processed', 'raw']\n",
      "Processed file names: ['ftd_y_val_nfl_adj_thresh_0.7_num_nodes_7258_mutation_GRN,MAPT,C9orf72,CTL_csf_sex_M,F_masternodes_False_sex_specific_True_train_nolog.pt', 'ftd_y_val_nfl_adj_thresh_0.7_num_nodes_7258_mutation_GRN,MAPT,C9orf72,CTL_csf_sex_M,F_masternodes_False_sex_specific_True_test_nolog.pt']\n",
      "Loading data from: /data/lcornelis/data/data_louisa/processed/ftd_y_val_nfl_adj_thresh_0.7_num_nodes_7258_mutation_GRN,MAPT,C9orf72,CTL_csf_sex_M,F_masternodes_False_sex_specific_True_train_nolog.pt\n",
      "Train dataset loaded successfully\n",
      "Processed file names: ['ftd_y_val_nfl_adj_thresh_0.7_num_nodes_7258_mutation_GRN,MAPT,C9orf72,CTL_csf_sex_M,F_masternodes_False_sex_specific_True_train_nolog.pt', 'ftd_y_val_nfl_adj_thresh_0.7_num_nodes_7258_mutation_GRN,MAPT,C9orf72,CTL_csf_sex_M,F_masternodes_False_sex_specific_True_test_nolog.pt']\n",
      "Loading data from: /data/lcornelis/data/data_louisa/processed/ftd_y_val_nfl_adj_thresh_0.7_num_nodes_7258_mutation_GRN,MAPT,C9orf72,CTL_csf_sex_M,F_masternodes_False_sex_specific_True_test_nolog.pt\n",
      "Test dataset loaded successfully\n",
      "torch.Size([32, 1])\n",
      "torch.Size([13, 1])\n",
      "Normalized Val MSE: tensor(0.2730, grad_fn=<MeanBackward0>)\n",
      "Normalized Val MSE2: tensor(0.2730)\n",
      "Normalized train MSE: 0.911766529083252\n",
      "Original Units Train MSE: tensor(332.7595)\n",
      "Original Units Train RMSE: tensor(18.2417)\n",
      "Original Units Val MSE: tensor(99.6463, grad_fn=<MseLossBackward0>)\n",
      "Original Units Val RMSE: tensor(9.9823, grad_fn=<SqrtBackward0>)\n",
      "Val Z scores: [-7.03969002e-01 -1.33094656e+00 -5.63112855e-01 -5.79374969e-01\n",
      " -4.54078406e-01 -1.98953915e+00  1.75085783e-01  3.10252577e-01\n",
      " -1.42181211e-03  6.97668493e-01 -9.79685545e-01  1.26682317e+00\n",
      "  6.48445010e-01 -3.64508271e-01 -1.09563422e+00  2.21381754e-01\n",
      "  3.73579025e-01 -7.20752552e-02  8.55749547e-01 -4.10120249e-01\n",
      "  5.38765073e-01  6.27062917e-01 -2.78639328e-02 -6.90896809e-01\n",
      " -2.70302087e-01 -1.16685808e+00 -3.39404154e+00  9.69097257e-01\n",
      " -4.30218250e-01  4.67912763e-01  2.98674107e+00  6.52195811e-01\n",
      "  6.37057602e-01 -3.58100384e-02  5.53612173e-01 -4.37928408e-01\n",
      " -1.14553526e-01  1.51941276e+00 -2.40426511e-01 -6.26652539e-01\n",
      "  1.18016350e+00  8.21323216e-01 -2.28047252e-01  2.14018524e-01\n",
      "  4.91717726e-01]\n"
     ]
    }
   ],
   "source": [
    "device = 'cpu' #'cuda' if torch.cuda.is_available() else 'cpu'\n",
    "csf_all_mean = 2.124088581365514\n",
    "csf_all_std = 0.8733420033790319\n",
    "\n",
    "csf_all_no_log_mean= 13.657203500473216\n",
    "csf_all_no_log_std = 19.103958473734895\n",
    "\n",
    "\n",
    "checkpoint_1 = \"/data/lcornelis/outputs/ray_results/TorchTrainer_2024-10-16_16-32-34/model=gat-v4,seed=6021_97_act=tanh,adj_thresh=0.5000,batch_size=32,dropout=0,l1_lambda=0.0000,lr=0.0023,lr_scheduler=LambdaLR,moda_2024-10-16_16-32-35/checkpoint_000050\"\n",
    "checkpoint_no_log = \"/data/lcornelis/outputs/ray_results/TorchTrainer_2024-10-22_23-08-24/model=gat-v4,seed=446_263_act=relu,adj_thresh=0.7000,batch_size=32,dropout=0.1000,l1_lambda=0.0002,lr=0.0085,lr_scheduler=Exponent_2024-10-23_03-23-53/checkpoint_000299\"\n",
    "\n",
    "\n",
    "outputs= full_load_and_run_and_convert(checkpoint_no_log ,device, csf_all_no_log_mean, csf_all_no_log_std)"
   ]
  },
  {
   "cell_type": "code",
   "execution_count": 49,
   "metadata": {},
   "outputs": [
    {
     "data": {
      "text/plain": [
       "0.30044277757406235"
      ]
     },
     "execution_count": 49,
     "metadata": {},
     "output_type": "execute_result"
    }
   ],
   "source": [
    "#(F.mse_loss(val_preds[:16], val_targets[:16]).item() + F.mse_loss(val_preds[16:32], val_targets[16:32]).item()+F.mse_loss(val_preds[32:], val_targets[32:]).item())/2\n",
    "(F.mse_loss(val_preds[:32], val_targets[:32]).item() +F.mse_loss(val_preds[32:], val_targets[32:]).item())/2"
   ]
  },
  {
   "cell_type": "code",
   "execution_count": 36,
   "metadata": {},
   "outputs": [
    {
     "data": {
      "text/plain": [
       "torch.Size([13, 1])"
      ]
     },
     "execution_count": 36,
     "metadata": {},
     "output_type": "execute_result"
    }
   ],
   "source": [
    "val_preds[32:].shape"
   ]
  },
  {
   "cell_type": "code",
   "execution_count": 21,
   "metadata": {},
   "outputs": [],
   "source": [
    "import train as proteo_train"
   ]
  },
  {
   "cell_type": "code",
   "execution_count": 22,
   "metadata": {},
   "outputs": [
    {
     "name": "stdout",
     "output_type": "stream",
     "text": [
      "Loading datasets from /data/lcornelis/data/data_louisa\n",
      "Absolute path: /data/lcornelis/data/data_louisa\n",
      "Directory contents: ['processed', 'raw']\n",
      "Processed file names: ['ftd_y_val_nfl_adj_thresh_0.7_num_nodes_7258_mutation_GRN,MAPT,C9orf72,CTL_csf_sex_M,F_masternodes_False_sex_specific_True_train.pt', 'ftd_y_val_nfl_adj_thresh_0.7_num_nodes_7258_mutation_GRN,MAPT,C9orf72,CTL_csf_sex_M,F_masternodes_False_sex_specific_True_test.pt']\n",
      "Loading data from: /data/lcornelis/data/data_louisa/processed/ftd_y_val_nfl_adj_thresh_0.7_num_nodes_7258_mutation_GRN,MAPT,C9orf72,CTL_csf_sex_M,F_masternodes_False_sex_specific_True_train.pt\n",
      "Train dataset loaded successfully\n",
      "Processed file names: ['ftd_y_val_nfl_adj_thresh_0.7_num_nodes_7258_mutation_GRN,MAPT,C9orf72,CTL_csf_sex_M,F_masternodes_False_sex_specific_True_train.pt', 'ftd_y_val_nfl_adj_thresh_0.7_num_nodes_7258_mutation_GRN,MAPT,C9orf72,CTL_csf_sex_M,F_masternodes_False_sex_specific_True_test.pt']\n",
      "Loading data from: /data/lcornelis/data/data_louisa/processed/ftd_y_val_nfl_adj_thresh_0.7_num_nodes_7258_mutation_GRN,MAPT,C9orf72,CTL_csf_sex_M,F_masternodes_False_sex_specific_True_test.pt\n",
      "Test dataset loaded successfully\n"
     ]
    },
    {
     "data": {
      "text/plain": [
       "Data(x=[326610, 1], edge_index=[2, 506010], y=[45], sex=[45], mutation=[45], age=[45])"
      ]
     },
     "execution_count": 22,
     "metadata": {},
     "output_type": "execute_result"
    }
   ],
   "source": [
    "train_dataset, test_dataset = proteo_train.construct_datasets(config)\n",
    "train_loader, test_loader = proteo_train.construct_loaders(config,train_dataset,test_dataset)\n",
    "test_dataset.data"
   ]
  },
  {
   "cell_type": "code",
   "execution_count": 26,
   "metadata": {},
   "outputs": [
    {
     "ename": "RuntimeError",
     "evalue": "Caught RuntimeError in DataLoader worker process 0.\nOriginal Traceback (most recent call last):\n  File \"/home/lcornelis/anaconda3/envs/proteo/lib/python3.11/site-packages/torch/utils/data/_utils/worker.py\", line 308, in _worker_loop\n    data = fetcher.fetch(index)\n           ^^^^^^^^^^^^^^^^^^^^\n  File \"/home/lcornelis/anaconda3/envs/proteo/lib/python3.11/site-packages/torch/utils/data/_utils/fetch.py\", line 54, in fetch\n    return self.collate_fn(data)\n           ^^^^^^^^^^^^^^^^^^^^^\n  File \"/home/lcornelis/anaconda3/envs/proteo/lib/python3.11/site-packages/torch_geometric/loader/dataloader.py\", line 27, in __call__\n    return Batch.from_data_list(\n           ^^^^^^^^^^^^^^^^^^^^^\n  File \"/home/lcornelis/anaconda3/envs/proteo/lib/python3.11/site-packages/torch_geometric/data/batch.py\", line 97, in from_data_list\n    batch, slice_dict, inc_dict = collate(\n                                  ^^^^^^^^\n  File \"/home/lcornelis/anaconda3/envs/proteo/lib/python3.11/site-packages/torch_geometric/data/collate.py\", line 109, in collate\n    value, slices, incs = _collate(attr, values, data_list, stores,\n                          ^^^^^^^^^^^^^^^^^^^^^^^^^^^^^^^^^^^^^^^^^\n  File \"/home/lcornelis/anaconda3/envs/proteo/lib/python3.11/site-packages/torch_geometric/data/collate.py\", line 205, in _collate\n    value = torch.cat(values, dim=cat_dim or 0, out=out)\n            ^^^^^^^^^^^^^^^^^^^^^^^^^^^^^^^^^^^^^^^^^^^^\nRuntimeError: cat(): functions with out=... arguments don't support automatic differentiation, but one of the arguments requires grad.\n",
     "output_type": "error",
     "traceback": [
      "\u001b[0;31m---------------------------------------------------------------------------\u001b[0m",
      "\u001b[0;31mRuntimeError\u001b[0m                              Traceback (most recent call last)",
      "Cell \u001b[0;32mIn[26], line 2\u001b[0m\n\u001b[1;32m      1\u001b[0m val_preds, val_targets \u001b[38;5;241m=\u001b[39m [], []\n\u001b[0;32m----> 2\u001b[0m \u001b[38;5;28;43;01mfor\u001b[39;49;00m\u001b[43m \u001b[49m\u001b[43mbatch\u001b[49m\u001b[43m \u001b[49m\u001b[38;5;129;43;01min\u001b[39;49;00m\u001b[43m \u001b[49m\u001b[43mtest_loader\u001b[49m\u001b[43m:\u001b[49m\n\u001b[1;32m      3\u001b[0m \u001b[43m    \u001b[49m\u001b[43mbatch\u001b[49m\u001b[38;5;241;43m.\u001b[39;49m\u001b[43mto\u001b[49m\u001b[43m(\u001b[49m\u001b[43mdevice\u001b[49m\u001b[43m)\u001b[49m\n\u001b[1;32m      4\u001b[0m \u001b[43m    \u001b[49m\u001b[38;5;66;43;03m# Forward pass\u001b[39;49;00m\n\u001b[1;32m      5\u001b[0m \u001b[43m    \u001b[49m\u001b[38;5;66;43;03m# print(module(batch))\u001b[39;49;00m\n",
      "File \u001b[0;32m~/anaconda3/envs/proteo/lib/python3.11/site-packages/torch/utils/data/dataloader.py:630\u001b[0m, in \u001b[0;36m_BaseDataLoaderIter.__next__\u001b[0;34m(self)\u001b[0m\n\u001b[1;32m    627\u001b[0m \u001b[38;5;28;01mif\u001b[39;00m \u001b[38;5;28mself\u001b[39m\u001b[38;5;241m.\u001b[39m_sampler_iter \u001b[38;5;129;01mis\u001b[39;00m \u001b[38;5;28;01mNone\u001b[39;00m:\n\u001b[1;32m    628\u001b[0m     \u001b[38;5;66;03m# TODO(https://github.com/pytorch/pytorch/issues/76750)\u001b[39;00m\n\u001b[1;32m    629\u001b[0m     \u001b[38;5;28mself\u001b[39m\u001b[38;5;241m.\u001b[39m_reset()  \u001b[38;5;66;03m# type: ignore[call-arg]\u001b[39;00m\n\u001b[0;32m--> 630\u001b[0m data \u001b[38;5;241m=\u001b[39m \u001b[38;5;28;43mself\u001b[39;49m\u001b[38;5;241;43m.\u001b[39;49m\u001b[43m_next_data\u001b[49m\u001b[43m(\u001b[49m\u001b[43m)\u001b[49m\n\u001b[1;32m    631\u001b[0m \u001b[38;5;28mself\u001b[39m\u001b[38;5;241m.\u001b[39m_num_yielded \u001b[38;5;241m+\u001b[39m\u001b[38;5;241m=\u001b[39m \u001b[38;5;241m1\u001b[39m\n\u001b[1;32m    632\u001b[0m \u001b[38;5;28;01mif\u001b[39;00m \u001b[38;5;28mself\u001b[39m\u001b[38;5;241m.\u001b[39m_dataset_kind \u001b[38;5;241m==\u001b[39m _DatasetKind\u001b[38;5;241m.\u001b[39mIterable \u001b[38;5;129;01mand\u001b[39;00m \\\n\u001b[1;32m    633\u001b[0m         \u001b[38;5;28mself\u001b[39m\u001b[38;5;241m.\u001b[39m_IterableDataset_len_called \u001b[38;5;129;01mis\u001b[39;00m \u001b[38;5;129;01mnot\u001b[39;00m \u001b[38;5;28;01mNone\u001b[39;00m \u001b[38;5;129;01mand\u001b[39;00m \\\n\u001b[1;32m    634\u001b[0m         \u001b[38;5;28mself\u001b[39m\u001b[38;5;241m.\u001b[39m_num_yielded \u001b[38;5;241m>\u001b[39m \u001b[38;5;28mself\u001b[39m\u001b[38;5;241m.\u001b[39m_IterableDataset_len_called:\n",
      "File \u001b[0;32m~/anaconda3/envs/proteo/lib/python3.11/site-packages/torch/utils/data/dataloader.py:1345\u001b[0m, in \u001b[0;36m_MultiProcessingDataLoaderIter._next_data\u001b[0;34m(self)\u001b[0m\n\u001b[1;32m   1343\u001b[0m \u001b[38;5;28;01melse\u001b[39;00m:\n\u001b[1;32m   1344\u001b[0m     \u001b[38;5;28;01mdel\u001b[39;00m \u001b[38;5;28mself\u001b[39m\u001b[38;5;241m.\u001b[39m_task_info[idx]\n\u001b[0;32m-> 1345\u001b[0m     \u001b[38;5;28;01mreturn\u001b[39;00m \u001b[38;5;28;43mself\u001b[39;49m\u001b[38;5;241;43m.\u001b[39;49m\u001b[43m_process_data\u001b[49m\u001b[43m(\u001b[49m\u001b[43mdata\u001b[49m\u001b[43m)\u001b[49m\n",
      "File \u001b[0;32m~/anaconda3/envs/proteo/lib/python3.11/site-packages/torch/utils/data/dataloader.py:1371\u001b[0m, in \u001b[0;36m_MultiProcessingDataLoaderIter._process_data\u001b[0;34m(self, data)\u001b[0m\n\u001b[1;32m   1369\u001b[0m \u001b[38;5;28mself\u001b[39m\u001b[38;5;241m.\u001b[39m_try_put_index()\n\u001b[1;32m   1370\u001b[0m \u001b[38;5;28;01mif\u001b[39;00m \u001b[38;5;28misinstance\u001b[39m(data, ExceptionWrapper):\n\u001b[0;32m-> 1371\u001b[0m     \u001b[43mdata\u001b[49m\u001b[38;5;241;43m.\u001b[39;49m\u001b[43mreraise\u001b[49m\u001b[43m(\u001b[49m\u001b[43m)\u001b[49m\n\u001b[1;32m   1372\u001b[0m \u001b[38;5;28;01mreturn\u001b[39;00m data\n",
      "File \u001b[0;32m~/anaconda3/envs/proteo/lib/python3.11/site-packages/torch/_utils.py:694\u001b[0m, in \u001b[0;36mExceptionWrapper.reraise\u001b[0;34m(self)\u001b[0m\n\u001b[1;32m    690\u001b[0m \u001b[38;5;28;01mexcept\u001b[39;00m \u001b[38;5;167;01mTypeError\u001b[39;00m:\n\u001b[1;32m    691\u001b[0m     \u001b[38;5;66;03m# If the exception takes multiple arguments, don't try to\u001b[39;00m\n\u001b[1;32m    692\u001b[0m     \u001b[38;5;66;03m# instantiate since we don't know how to\u001b[39;00m\n\u001b[1;32m    693\u001b[0m     \u001b[38;5;28;01mraise\u001b[39;00m \u001b[38;5;167;01mRuntimeError\u001b[39;00m(msg) \u001b[38;5;28;01mfrom\u001b[39;00m \u001b[38;5;28;01mNone\u001b[39;00m\n\u001b[0;32m--> 694\u001b[0m \u001b[38;5;28;01mraise\u001b[39;00m exception\n",
      "\u001b[0;31mRuntimeError\u001b[0m: Caught RuntimeError in DataLoader worker process 0.\nOriginal Traceback (most recent call last):\n  File \"/home/lcornelis/anaconda3/envs/proteo/lib/python3.11/site-packages/torch/utils/data/_utils/worker.py\", line 308, in _worker_loop\n    data = fetcher.fetch(index)\n           ^^^^^^^^^^^^^^^^^^^^\n  File \"/home/lcornelis/anaconda3/envs/proteo/lib/python3.11/site-packages/torch/utils/data/_utils/fetch.py\", line 54, in fetch\n    return self.collate_fn(data)\n           ^^^^^^^^^^^^^^^^^^^^^\n  File \"/home/lcornelis/anaconda3/envs/proteo/lib/python3.11/site-packages/torch_geometric/loader/dataloader.py\", line 27, in __call__\n    return Batch.from_data_list(\n           ^^^^^^^^^^^^^^^^^^^^^\n  File \"/home/lcornelis/anaconda3/envs/proteo/lib/python3.11/site-packages/torch_geometric/data/batch.py\", line 97, in from_data_list\n    batch, slice_dict, inc_dict = collate(\n                                  ^^^^^^^^\n  File \"/home/lcornelis/anaconda3/envs/proteo/lib/python3.11/site-packages/torch_geometric/data/collate.py\", line 109, in collate\n    value, slices, incs = _collate(attr, values, data_list, stores,\n                          ^^^^^^^^^^^^^^^^^^^^^^^^^^^^^^^^^^^^^^^^^\n  File \"/home/lcornelis/anaconda3/envs/proteo/lib/python3.11/site-packages/torch_geometric/data/collate.py\", line 205, in _collate\n    value = torch.cat(values, dim=cat_dim or 0, out=out)\n            ^^^^^^^^^^^^^^^^^^^^^^^^^^^^^^^^^^^^^^^^^^^^\nRuntimeError: cat(): functions with out=... arguments don't support automatic differentiation, but one of the arguments requires grad.\n"
     ]
    }
   ],
   "source": [
    "val_preds, val_targets = [], []\n",
    "for batch in test_loader:\n",
    "    batch.to(device)\n",
    "    # Forward pass\n",
    "    # print(module(batch))\n",
    "    pred = module(batch)\n",
    "    target = batch.y.view(pred.shape)\n",
    "\n",
    "    # Store predictions and targets\n",
    "    val_preds.append(pred.cpu())\n",
    "    val_targets.append(target.cpu())"
   ]
  },
  {
   "cell_type": "code",
   "execution_count": 24,
   "metadata": {},
   "outputs": [
    {
     "ename": "RuntimeError",
     "evalue": "Given normalized_shape=[7258], expected input with shape [*, 7258], but got input of size[1, 326610]",
     "output_type": "error",
     "traceback": [
      "\u001b[0;31m---------------------------------------------------------------------------\u001b[0m",
      "\u001b[0;31mRuntimeError\u001b[0m                              Traceback (most recent call last)",
      "Cell \u001b[0;32mIn[24], line 1\u001b[0m\n\u001b[0;32m----> 1\u001b[0m \u001b[43mmodule\u001b[49m\u001b[38;5;241;43m.\u001b[39;49m\u001b[43mvalidation_step\u001b[49m\u001b[43m(\u001b[49m\u001b[43mtest_dataset\u001b[49m\u001b[38;5;241;43m.\u001b[39;49m\u001b[43mdata\u001b[49m\u001b[43m)\u001b[49m\n",
      "File \u001b[0;32m~/code/proteo/proteo/train.py:264\u001b[0m, in \u001b[0;36mProteo.validation_step\u001b[0;34m(self, batch)\u001b[0m\n\u001b[1;32m    253\u001b[0m \u001b[38;5;28;01mdef\u001b[39;00m \u001b[38;5;21mvalidation_step\u001b[39m(\u001b[38;5;28mself\u001b[39m, batch):\n\u001b[1;32m    254\u001b[0m \u001b[38;5;250m    \u001b[39m\u001b[38;5;124;03m\"\"\"Run single step in the validation loop. It specifies how a batch of data is processed during validation, including making predictions, calculating the loss, and logging metrics.\u001b[39;00m\n\u001b[1;32m    255\u001b[0m \n\u001b[1;32m    256\u001b[0m \u001b[38;5;124;03m    Parameters\u001b[39;00m\n\u001b[0;32m   (...)\u001b[0m\n\u001b[1;32m    262\u001b[0m \u001b[38;5;124;03m    batch.batch: torch.Tensor of shape [num_nodes * batch_size]\u001b[39;00m\n\u001b[1;32m    263\u001b[0m \u001b[38;5;124;03m    \"\"\"\u001b[39;00m\n\u001b[0;32m--> 264\u001b[0m     pred \u001b[38;5;241m=\u001b[39m \u001b[38;5;28;43mself\u001b[39;49m\u001b[38;5;241;43m.\u001b[39;49m\u001b[43mforward\u001b[49m\u001b[43m(\u001b[49m\u001b[43mbatch\u001b[49m\u001b[43m)\u001b[49m\n\u001b[1;32m    265\u001b[0m     \u001b[38;5;66;03m# Pred is shape [batch_size,1] and targets is shape [batch_size], only reshape if not doing multiclass classification\u001b[39;00m\n\u001b[1;32m    266\u001b[0m     \u001b[38;5;28;01mif\u001b[39;00m \u001b[38;5;28mself\u001b[39m\u001b[38;5;241m.\u001b[39mconfig\u001b[38;5;241m.\u001b[39my_val \u001b[38;5;241m!=\u001b[39m \u001b[38;5;124m'\u001b[39m\u001b[38;5;124mclinical_dementia_rating_global\u001b[39m\u001b[38;5;124m'\u001b[39m:\n",
      "File \u001b[0;32m~/code/proteo/proteo/train.py:168\u001b[0m, in \u001b[0;36mProteo.forward\u001b[0;34m(self, batch)\u001b[0m\n\u001b[1;32m    157\u001b[0m \u001b[38;5;250m\u001b[39m\u001b[38;5;124;03m\"\"\"Forward pass of the model on the input batch.\u001b[39;00m\n\u001b[1;32m    158\u001b[0m \n\u001b[1;32m    159\u001b[0m \u001b[38;5;124;03mParameters\u001b[39;00m\n\u001b[0;32m   (...)\u001b[0m\n\u001b[1;32m    165\u001b[0m \u001b[38;5;124;03mbatch.batch: torch.Tensor of shape [num_nodes * batch_size]\u001b[39;00m\n\u001b[1;32m    166\u001b[0m \u001b[38;5;124;03m\"\"\"\u001b[39;00m\n\u001b[1;32m    167\u001b[0m \u001b[38;5;28;01mif\u001b[39;00m \u001b[38;5;28mself\u001b[39m\u001b[38;5;241m.\u001b[39mconfig\u001b[38;5;241m.\u001b[39mmodel \u001b[38;5;241m==\u001b[39m \u001b[38;5;124m\"\u001b[39m\u001b[38;5;124mgat-v4\u001b[39m\u001b[38;5;124m\"\u001b[39m:\n\u001b[0;32m--> 168\u001b[0m     pred, aux \u001b[38;5;241m=\u001b[39m \u001b[38;5;28;43mself\u001b[39;49m\u001b[38;5;241;43m.\u001b[39;49m\u001b[43mmodel\u001b[49m\u001b[43m(\u001b[49m\u001b[43mbatch\u001b[49m\u001b[38;5;241;43m.\u001b[39;49m\u001b[43mx\u001b[49m\u001b[43m,\u001b[49m\u001b[43m \u001b[49m\u001b[43mbatch\u001b[49m\u001b[38;5;241;43m.\u001b[39;49m\u001b[43medge_index\u001b[49m\u001b[43m,\u001b[49m\u001b[43m \u001b[49m\u001b[43mbatch\u001b[49m\u001b[43m)\u001b[49m\n\u001b[1;32m    169\u001b[0m     \u001b[38;5;28mself\u001b[39m\u001b[38;5;241m.\u001b[39mx0\u001b[38;5;241m.\u001b[39mappend(aux[\u001b[38;5;241m0\u001b[39m])  \u001b[38;5;66;03m# check which format is best here.\u001b[39;00m\n\u001b[1;32m    170\u001b[0m     \u001b[38;5;28mself\u001b[39m\u001b[38;5;241m.\u001b[39mx1\u001b[38;5;241m.\u001b[39mappend(aux[\u001b[38;5;241m1\u001b[39m])\n",
      "File \u001b[0;32m~/anaconda3/envs/proteo/lib/python3.11/site-packages/torch/nn/modules/module.py:1518\u001b[0m, in \u001b[0;36mModule._wrapped_call_impl\u001b[0;34m(self, *args, **kwargs)\u001b[0m\n\u001b[1;32m   1516\u001b[0m     \u001b[38;5;28;01mreturn\u001b[39;00m \u001b[38;5;28mself\u001b[39m\u001b[38;5;241m.\u001b[39m_compiled_call_impl(\u001b[38;5;241m*\u001b[39margs, \u001b[38;5;241m*\u001b[39m\u001b[38;5;241m*\u001b[39mkwargs)  \u001b[38;5;66;03m# type: ignore[misc]\u001b[39;00m\n\u001b[1;32m   1517\u001b[0m \u001b[38;5;28;01melse\u001b[39;00m:\n\u001b[0;32m-> 1518\u001b[0m     \u001b[38;5;28;01mreturn\u001b[39;00m \u001b[38;5;28;43mself\u001b[39;49m\u001b[38;5;241;43m.\u001b[39;49m\u001b[43m_call_impl\u001b[49m\u001b[43m(\u001b[49m\u001b[38;5;241;43m*\u001b[39;49m\u001b[43margs\u001b[49m\u001b[43m,\u001b[49m\u001b[43m \u001b[49m\u001b[38;5;241;43m*\u001b[39;49m\u001b[38;5;241;43m*\u001b[39;49m\u001b[43mkwargs\u001b[49m\u001b[43m)\u001b[49m\n",
      "File \u001b[0;32m~/anaconda3/envs/proteo/lib/python3.11/site-packages/torch/nn/modules/module.py:1527\u001b[0m, in \u001b[0;36mModule._call_impl\u001b[0;34m(self, *args, **kwargs)\u001b[0m\n\u001b[1;32m   1522\u001b[0m \u001b[38;5;66;03m# If we don't have any hooks, we want to skip the rest of the logic in\u001b[39;00m\n\u001b[1;32m   1523\u001b[0m \u001b[38;5;66;03m# this function, and just call forward.\u001b[39;00m\n\u001b[1;32m   1524\u001b[0m \u001b[38;5;28;01mif\u001b[39;00m \u001b[38;5;129;01mnot\u001b[39;00m (\u001b[38;5;28mself\u001b[39m\u001b[38;5;241m.\u001b[39m_backward_hooks \u001b[38;5;129;01mor\u001b[39;00m \u001b[38;5;28mself\u001b[39m\u001b[38;5;241m.\u001b[39m_backward_pre_hooks \u001b[38;5;129;01mor\u001b[39;00m \u001b[38;5;28mself\u001b[39m\u001b[38;5;241m.\u001b[39m_forward_hooks \u001b[38;5;129;01mor\u001b[39;00m \u001b[38;5;28mself\u001b[39m\u001b[38;5;241m.\u001b[39m_forward_pre_hooks\n\u001b[1;32m   1525\u001b[0m         \u001b[38;5;129;01mor\u001b[39;00m _global_backward_pre_hooks \u001b[38;5;129;01mor\u001b[39;00m _global_backward_hooks\n\u001b[1;32m   1526\u001b[0m         \u001b[38;5;129;01mor\u001b[39;00m _global_forward_hooks \u001b[38;5;129;01mor\u001b[39;00m _global_forward_pre_hooks):\n\u001b[0;32m-> 1527\u001b[0m     \u001b[38;5;28;01mreturn\u001b[39;00m \u001b[43mforward_call\u001b[49m\u001b[43m(\u001b[49m\u001b[38;5;241;43m*\u001b[39;49m\u001b[43margs\u001b[49m\u001b[43m,\u001b[49m\u001b[43m \u001b[49m\u001b[38;5;241;43m*\u001b[39;49m\u001b[38;5;241;43m*\u001b[39;49m\u001b[43mkwargs\u001b[49m\u001b[43m)\u001b[49m\n\u001b[1;32m   1529\u001b[0m \u001b[38;5;28;01mtry\u001b[39;00m:\n\u001b[1;32m   1530\u001b[0m     result \u001b[38;5;241m=\u001b[39m \u001b[38;5;28;01mNone\u001b[39;00m\n",
      "File \u001b[0;32m~/code/proteo/proteo/models/gat_v4.py:268\u001b[0m, in \u001b[0;36mGATv4.forward\u001b[0;34m(self, x, edge_index, data)\u001b[0m\n\u001b[1;32m    266\u001b[0m \u001b[38;5;66;03m# Apply layer normalization to each individual graph to have mean 0, std 1\u001b[39;00m\n\u001b[1;32m    267\u001b[0m \u001b[38;5;28;01mif\u001b[39;00m \u001b[38;5;28mself\u001b[39m\u001b[38;5;241m.\u001b[39muse_layer_norm:\n\u001b[0;32m--> 268\u001b[0m     x0 \u001b[38;5;241m=\u001b[39m \u001b[38;5;28;43mself\u001b[39;49m\u001b[38;5;241;43m.\u001b[39;49m\u001b[43mlayer_norm\u001b[49m\u001b[43m(\u001b[49m\u001b[43mx0\u001b[49m\u001b[43m)\u001b[49m  \u001b[38;5;66;03m# [bs, nodes]\u001b[39;00m\n\u001b[1;32m    269\u001b[0m     x1 \u001b[38;5;241m=\u001b[39m \u001b[38;5;28mself\u001b[39m\u001b[38;5;241m.\u001b[39mlayer_norm(x1)  \u001b[38;5;66;03m# [bs, nodes]\u001b[39;00m\n\u001b[1;32m    270\u001b[0m     x2 \u001b[38;5;241m=\u001b[39m \u001b[38;5;28mself\u001b[39m\u001b[38;5;241m.\u001b[39mlayer_norm(x2)  \u001b[38;5;66;03m# [bs, nodes]\u001b[39;00m\n",
      "File \u001b[0;32m~/anaconda3/envs/proteo/lib/python3.11/site-packages/torch/nn/modules/module.py:1518\u001b[0m, in \u001b[0;36mModule._wrapped_call_impl\u001b[0;34m(self, *args, **kwargs)\u001b[0m\n\u001b[1;32m   1516\u001b[0m     \u001b[38;5;28;01mreturn\u001b[39;00m \u001b[38;5;28mself\u001b[39m\u001b[38;5;241m.\u001b[39m_compiled_call_impl(\u001b[38;5;241m*\u001b[39margs, \u001b[38;5;241m*\u001b[39m\u001b[38;5;241m*\u001b[39mkwargs)  \u001b[38;5;66;03m# type: ignore[misc]\u001b[39;00m\n\u001b[1;32m   1517\u001b[0m \u001b[38;5;28;01melse\u001b[39;00m:\n\u001b[0;32m-> 1518\u001b[0m     \u001b[38;5;28;01mreturn\u001b[39;00m \u001b[38;5;28;43mself\u001b[39;49m\u001b[38;5;241;43m.\u001b[39;49m\u001b[43m_call_impl\u001b[49m\u001b[43m(\u001b[49m\u001b[38;5;241;43m*\u001b[39;49m\u001b[43margs\u001b[49m\u001b[43m,\u001b[49m\u001b[43m \u001b[49m\u001b[38;5;241;43m*\u001b[39;49m\u001b[38;5;241;43m*\u001b[39;49m\u001b[43mkwargs\u001b[49m\u001b[43m)\u001b[49m\n",
      "File \u001b[0;32m~/anaconda3/envs/proteo/lib/python3.11/site-packages/torch/nn/modules/module.py:1527\u001b[0m, in \u001b[0;36mModule._call_impl\u001b[0;34m(self, *args, **kwargs)\u001b[0m\n\u001b[1;32m   1522\u001b[0m \u001b[38;5;66;03m# If we don't have any hooks, we want to skip the rest of the logic in\u001b[39;00m\n\u001b[1;32m   1523\u001b[0m \u001b[38;5;66;03m# this function, and just call forward.\u001b[39;00m\n\u001b[1;32m   1524\u001b[0m \u001b[38;5;28;01mif\u001b[39;00m \u001b[38;5;129;01mnot\u001b[39;00m (\u001b[38;5;28mself\u001b[39m\u001b[38;5;241m.\u001b[39m_backward_hooks \u001b[38;5;129;01mor\u001b[39;00m \u001b[38;5;28mself\u001b[39m\u001b[38;5;241m.\u001b[39m_backward_pre_hooks \u001b[38;5;129;01mor\u001b[39;00m \u001b[38;5;28mself\u001b[39m\u001b[38;5;241m.\u001b[39m_forward_hooks \u001b[38;5;129;01mor\u001b[39;00m \u001b[38;5;28mself\u001b[39m\u001b[38;5;241m.\u001b[39m_forward_pre_hooks\n\u001b[1;32m   1525\u001b[0m         \u001b[38;5;129;01mor\u001b[39;00m _global_backward_pre_hooks \u001b[38;5;129;01mor\u001b[39;00m _global_backward_hooks\n\u001b[1;32m   1526\u001b[0m         \u001b[38;5;129;01mor\u001b[39;00m _global_forward_hooks \u001b[38;5;129;01mor\u001b[39;00m _global_forward_pre_hooks):\n\u001b[0;32m-> 1527\u001b[0m     \u001b[38;5;28;01mreturn\u001b[39;00m \u001b[43mforward_call\u001b[49m\u001b[43m(\u001b[49m\u001b[38;5;241;43m*\u001b[39;49m\u001b[43margs\u001b[49m\u001b[43m,\u001b[49m\u001b[43m \u001b[49m\u001b[38;5;241;43m*\u001b[39;49m\u001b[38;5;241;43m*\u001b[39;49m\u001b[43mkwargs\u001b[49m\u001b[43m)\u001b[49m\n\u001b[1;32m   1529\u001b[0m \u001b[38;5;28;01mtry\u001b[39;00m:\n\u001b[1;32m   1530\u001b[0m     result \u001b[38;5;241m=\u001b[39m \u001b[38;5;28;01mNone\u001b[39;00m\n",
      "File \u001b[0;32m~/anaconda3/envs/proteo/lib/python3.11/site-packages/torch/nn/modules/normalization.py:196\u001b[0m, in \u001b[0;36mLayerNorm.forward\u001b[0;34m(self, input)\u001b[0m\n\u001b[1;32m    195\u001b[0m \u001b[38;5;28;01mdef\u001b[39;00m \u001b[38;5;21mforward\u001b[39m(\u001b[38;5;28mself\u001b[39m, \u001b[38;5;28minput\u001b[39m: Tensor) \u001b[38;5;241m-\u001b[39m\u001b[38;5;241m>\u001b[39m Tensor:\n\u001b[0;32m--> 196\u001b[0m     \u001b[38;5;28;01mreturn\u001b[39;00m \u001b[43mF\u001b[49m\u001b[38;5;241;43m.\u001b[39;49m\u001b[43mlayer_norm\u001b[49m\u001b[43m(\u001b[49m\n\u001b[1;32m    197\u001b[0m \u001b[43m        \u001b[49m\u001b[38;5;28;43minput\u001b[39;49m\u001b[43m,\u001b[49m\u001b[43m \u001b[49m\u001b[38;5;28;43mself\u001b[39;49m\u001b[38;5;241;43m.\u001b[39;49m\u001b[43mnormalized_shape\u001b[49m\u001b[43m,\u001b[49m\u001b[43m \u001b[49m\u001b[38;5;28;43mself\u001b[39;49m\u001b[38;5;241;43m.\u001b[39;49m\u001b[43mweight\u001b[49m\u001b[43m,\u001b[49m\u001b[43m \u001b[49m\u001b[38;5;28;43mself\u001b[39;49m\u001b[38;5;241;43m.\u001b[39;49m\u001b[43mbias\u001b[49m\u001b[43m,\u001b[49m\u001b[43m \u001b[49m\u001b[38;5;28;43mself\u001b[39;49m\u001b[38;5;241;43m.\u001b[39;49m\u001b[43meps\u001b[49m\u001b[43m)\u001b[49m\n",
      "File \u001b[0;32m~/anaconda3/envs/proteo/lib/python3.11/site-packages/torch/nn/functional.py:2543\u001b[0m, in \u001b[0;36mlayer_norm\u001b[0;34m(input, normalized_shape, weight, bias, eps)\u001b[0m\n\u001b[1;32m   2539\u001b[0m \u001b[38;5;28;01mif\u001b[39;00m has_torch_function_variadic(\u001b[38;5;28minput\u001b[39m, weight, bias):\n\u001b[1;32m   2540\u001b[0m     \u001b[38;5;28;01mreturn\u001b[39;00m handle_torch_function(\n\u001b[1;32m   2541\u001b[0m         layer_norm, (\u001b[38;5;28minput\u001b[39m, weight, bias), \u001b[38;5;28minput\u001b[39m, normalized_shape, weight\u001b[38;5;241m=\u001b[39mweight, bias\u001b[38;5;241m=\u001b[39mbias, eps\u001b[38;5;241m=\u001b[39meps\n\u001b[1;32m   2542\u001b[0m     )\n\u001b[0;32m-> 2543\u001b[0m \u001b[38;5;28;01mreturn\u001b[39;00m \u001b[43mtorch\u001b[49m\u001b[38;5;241;43m.\u001b[39;49m\u001b[43mlayer_norm\u001b[49m\u001b[43m(\u001b[49m\u001b[38;5;28;43minput\u001b[39;49m\u001b[43m,\u001b[49m\u001b[43m \u001b[49m\u001b[43mnormalized_shape\u001b[49m\u001b[43m,\u001b[49m\u001b[43m \u001b[49m\u001b[43mweight\u001b[49m\u001b[43m,\u001b[49m\u001b[43m \u001b[49m\u001b[43mbias\u001b[49m\u001b[43m,\u001b[49m\u001b[43m \u001b[49m\u001b[43meps\u001b[49m\u001b[43m,\u001b[49m\u001b[43m \u001b[49m\u001b[43mtorch\u001b[49m\u001b[38;5;241;43m.\u001b[39;49m\u001b[43mbackends\u001b[49m\u001b[38;5;241;43m.\u001b[39;49m\u001b[43mcudnn\u001b[49m\u001b[38;5;241;43m.\u001b[39;49m\u001b[43menabled\u001b[49m\u001b[43m)\u001b[49m\n",
      "\u001b[0;31mRuntimeError\u001b[0m: Given normalized_shape=[7258], expected input with shape [*, 7258], but got input of size[1, 326610]"
     ]
    }
   ],
   "source": [
    "module.validation_step(test_dataset.data)"
   ]
  },
  {
   "cell_type": "code",
   "execution_count": null,
   "metadata": {},
   "outputs": [],
   "source": [
    "\"/home/lcornelis/code/proteo/outputs/ray_results/TorchTrainer_2024-10-17_16-51-50/model=gat-v4,seed=1812_148_act=leaky_relu,adj_thresh=0.7000,batch_size=32,dropout=0.1000,l1_lambda=0.0000,lr=0.0044,lr_scheduler=L_2024-10-17_16-51-51/checkpoint_000094\"\n",
    "\"/home/lcornelis/code/proteo/outputs/ray_results/TorchTrainer_2024-10-17_16-51-50/model=gat-v4,seed=1812_148_act=leaky_relu,adj_thresh=0.7000,batch_size=32,dropout=0.1000,l1_lambda=0.0000,lr=0.0044,lr_scheduler=L_2024-10-17_16-51-51/checkpoint_000094\""
   ]
  },
  {
   "cell_type": "code",
   "execution_count": null,
   "metadata": {},
   "outputs": [],
   "source": []
  },
  {
   "cell_type": "code",
   "execution_count": null,
   "metadata": {},
   "outputs": [],
   "source": []
  },
  {
   "cell_type": "code",
   "execution_count": 3,
   "metadata": {},
   "outputs": [
    {
     "name": "stdout",
     "output_type": "stream",
     "text": [
      "adj_thresh_choices=[0.1, 0.2, 0.35, 0.5, 0.7, 0.9] dropout=0.1 gat-v4={'hidden_channels': [8, 16], 'heads': [4, 4], 'use_layer_norm': True, 'which_layer': ['layer1', 'layer2', 'layer3', 'sex', 'mutation'], 'fc_dim': [128, 256, 256, 64], 'fc_dropout': 0.1, 'fc_act': 'relu', 'weight_initializer': 'orthogonal', 'num_layers': None} gat_hidden_channels=[8, 32, 128, 256] output_dir='/home/lcornelis/code/proteo/outputs' lr_min=1e-06 gcn_num_layers=[2, 3, 4] lr_scheduler='LambdaLR' nodes_count=1 raw_file_name='ALLFTD_dataset_for_nina_louisa_071124_age_adjusted.csv' gpu_per_worker=1 gcn={'num_layers': 3, 'hidden_channels': 32} num_workers=16 trainer_accelerator='gpu' use_progress_bar=True gat_num_layers=[2, 4, 6, 12] modality_choices=['csf'] batch_size=32 seed=15680 lr_scheduler_choices=['LambdaLR', 'ReduceLROnPlateau', 'ExponentialLR', 'StepLR', 'CosineAnnealingLR'] gat_heads=[1, 2, 4, 8] reduction_factor=6 num_nodes=7258 lr=0.0005472969709054848 master_nodes=['sex', 'mutation', 'age'] epochs=300 data_dir='/data/lcornelis/data/data_louisa' wandb_api_key_path='wandb_api_key.txt' grace_period=30 ray_tmp_dir='/home/lcornelis/code/proteo/outputs/ray_tmp' l1_lambda=0.0006586667196490828 num_nodes_choices=[7258] act='tanh' devices=[0, 1] accumulate_grad_batches=1 gat_v4_fc_dim=[[64, 128, 128, 32], [128, 256, 256, 64], [256, 512, 512, 128]] act_choices=['relu', 'tanh', 'sigmoid', 'leaky_relu', 'elu'] sex_choices=[['M', 'F']] sex=['M', 'F'] dropout_choices=[0, 0.05, 0.1, 0.2, 0.3] l1_lambda_min=1e-05 wandb_tmp_dir='/home/lcornelis/code/proteo/outputs/wandb_tmp' modality='csf' wgcna_mergeCutHeight=0.25 gat_v4_hidden_channels=[[8, 16], [32, 64], [64, 128]] gat_v4_fc_dropout=[0.1, 0.2, 0.5] pin_memory=True error_protein_file_name='bimodal_aptamers_for_removal.xlsx' log_every_n_steps=10 checkpoint_dir='/home/lcornelis/code/proteo/outputs/checkpoints' dataset_name='ftd' root_dir='/home/lcornelis/code/proteo' l1_lambda_max=0.1 cpu_per_worker=1 wgcna_minModuleSize=10 optimizer='Adam' y_val='nfl' adj_thresh=0.35 project='proteo' gat={'num_layers': 2, 'hidden_channels': 256, 'heads': 4, 'v2': True} num_to_keep=3 batch_size_choices=[8, 16, 32, 50] gat_v4_heads=[[2, 3], [2, 2], [4, 4]] mutation=['GRN', 'MAPT', 'C9orf72', 'CTL'] gat_v4_fc_act=['relu', 'tanh', 'sigmoid', 'leaky_relu', 'elu'] gcn_hidden_channels=[8, 32, 128] weight_decay=0 use_master_nodes=False sex_specific_adj=True ray_results_dir='/home/lcornelis/code/proteo/outputs/ray_results' mutation_choices=[['GRN', 'MAPT', 'C9orf72', 'CTL']] wandb_offline=False precision='32-true' sync_batchnorm=False use_gpu=True y_val_choices=['nfl'] model_grid_search=['gat-v4'] checkpoint_every_n_epochs_train=1 model='gat-v4' gat_v4_weight_initializer=['xavier', 'kaiming', 'orthogonal', 'truncated_normal', 'uniform'] num_samples=300 lr_max=0.1\n",
      "Loading datasets from /data/lcornelis/data/data_louisa\n",
      "Absolute path: /data/lcornelis/data/data_louisa\n",
      "Directory contents: ['processed', 'raw']\n",
      "Processed file names: ['ftd_y_val_nfl_adj_thresh_0.35_num_nodes_7258_mutation_GRN,MAPT,C9orf72,CTL_csf_sex_M,F_masternodes_False_sex_specific_True_train.pt', 'ftd_y_val_nfl_adj_thresh_0.35_num_nodes_7258_mutation_GRN,MAPT,C9orf72,CTL_csf_sex_M,F_masternodes_False_sex_specific_True_test.pt']\n",
      "Loading data from: /data/lcornelis/data/data_louisa/processed/ftd_y_val_nfl_adj_thresh_0.35_num_nodes_7258_mutation_GRN,MAPT,C9orf72,CTL_csf_sex_M,F_masternodes_False_sex_specific_True_train.pt\n",
      "Train dataset loaded successfully\n",
      "Processed file names: ['ftd_y_val_nfl_adj_thresh_0.35_num_nodes_7258_mutation_GRN,MAPT,C9orf72,CTL_csf_sex_M,F_masternodes_False_sex_specific_True_train.pt', 'ftd_y_val_nfl_adj_thresh_0.35_num_nodes_7258_mutation_GRN,MAPT,C9orf72,CTL_csf_sex_M,F_masternodes_False_sex_specific_True_test.pt']\n",
      "Loading data from: /data/lcornelis/data/data_louisa/processed/ftd_y_val_nfl_adj_thresh_0.35_num_nodes_7258_mutation_GRN,MAPT,C9orf72,CTL_csf_sex_M,F_masternodes_False_sex_specific_True_test.pt\n",
      "Test dataset loaded successfully\n",
      "Normalized Val MSE: 0.7608689069747925\n",
      "Normalized train MSE: 0.8700430989265442\n"
     ]
    },
    {
     "ename": "TypeError",
     "evalue": "expected 0 arguments, got 1",
     "output_type": "error",
     "traceback": [
      "\u001b[0;31m---------------------------------------------------------------------------\u001b[0m",
      "\u001b[0;31mTypeError\u001b[0m                                 Traceback (most recent call last)",
      "Cell \u001b[0;32mIn[3], line 4\u001b[0m\n\u001b[1;32m      2\u001b[0m checkpoint1 \u001b[38;5;241m=\u001b[39m \u001b[38;5;124m\"\u001b[39m\u001b[38;5;124m/home/lcornelis/code/proteo/outputs/ray_results/TorchTrainer_2024-10-15_15-51-21/model=gat-v4,seed=15680_180_act=tanh,adj_thresh=0.3500,batch_size=32,dropout=0.1000,l1_lambda=0.0007,lr=0.0005,lr_scheduler=Lambda_2024-10-15_15-51-23/checkpoint_000001\u001b[39m\u001b[38;5;124m\"\u001b[39m\n\u001b[1;32m      3\u001b[0m checkpoint2 \u001b[38;5;241m=\u001b[39m \u001b[38;5;124m\"\u001b[39m\u001b[38;5;124m/home/lcornelis/code/proteo/outputs/ray_results/TorchTrainer_2024-10-15_15-51-21/model=gat-v4,seed=60527_226_act=tanh,adj_thresh=0.9000,batch_size=32,dropout=0,l1_lambda=0.0025,lr=0.0006,lr_scheduler=LambdaLR,mo_2024-10-15_17-14-43/checkpoint_000006\u001b[39m\u001b[38;5;124m\"\u001b[39m\n\u001b[0;32m----> 4\u001b[0m \u001b[43mfull_load_and_run_and_convert\u001b[49m\u001b[43m(\u001b[49m\u001b[43mcheckpoint1\u001b[49m\u001b[43m \u001b[49m\u001b[43m,\u001b[49m\u001b[43mdevice\u001b[49m\u001b[43m,\u001b[49m\u001b[43m \u001b[49m\u001b[43mcsf_all_mean\u001b[49m\u001b[43m,\u001b[49m\u001b[43m \u001b[49m\u001b[43mcsf_all_std\u001b[49m\u001b[43m)\u001b[49m\n",
      "File \u001b[0;32m~/code/proteo/proteo/checkpoint_analysis.py:170\u001b[0m, in \u001b[0;36mfull_load_and_run_and_convert\u001b[0;34m(relative_checkpoint_path, device, mean, std)\u001b[0m\n\u001b[1;32m    168\u001b[0m val_rmse \u001b[38;5;241m=\u001b[39m torch\u001b[38;5;241m.\u001b[39msqrt(val_mse)\n\u001b[1;32m    169\u001b[0m \u001b[38;5;66;03m#print(val_preds.view(-1).detach().cpu().numpy())\u001b[39;00m\n\u001b[0;32m--> 170\u001b[0m val_z_scores \u001b[38;5;241m=\u001b[39m \u001b[43mzscore\u001b[49m\u001b[43m(\u001b[49m\n\u001b[1;32m    171\u001b[0m \u001b[43m    \u001b[49m\u001b[43mval_preds\u001b[49m\u001b[38;5;241;43m.\u001b[39;49m\u001b[43mview\u001b[49m\u001b[43m(\u001b[49m\u001b[38;5;241;43m-\u001b[39;49m\u001b[38;5;241;43m1\u001b[39;49m\u001b[43m)\u001b[49m\u001b[38;5;241;43m.\u001b[39;49m\u001b[43mdetach\u001b[49m\u001b[43m(\u001b[49m\u001b[43m)\u001b[49m\u001b[38;5;241;43m.\u001b[39;49m\u001b[43mcpu\u001b[49m\u001b[43m(\u001b[49m\u001b[43m)\u001b[49m\u001b[38;5;241;43m.\u001b[39;49m\u001b[43mnumpy\u001b[49m\u001b[43m(\u001b[49m\u001b[43m)\u001b[49m\u001b[43m \u001b[49m\u001b[38;5;241;43m-\u001b[39;49m\u001b[43m \u001b[49m\u001b[43mval_targets\u001b[49m\u001b[38;5;241;43m.\u001b[39;49m\u001b[43mview\u001b[49m\u001b[43m(\u001b[49m\u001b[38;5;241;43m-\u001b[39;49m\u001b[38;5;241;43m1\u001b[39;49m\u001b[43m)\u001b[49m\u001b[38;5;241;43m.\u001b[39;49m\u001b[43mdetach\u001b[49m\u001b[43m(\u001b[49m\u001b[43m)\u001b[49m\u001b[38;5;241;43m.\u001b[39;49m\u001b[43mcpu\u001b[49m\u001b[43m(\u001b[49m\u001b[43m)\u001b[49m\u001b[38;5;241;43m.\u001b[39;49m\u001b[43mnumpy\u001b[49m\u001b[43m(\u001b[49m\u001b[43m)\u001b[49m\u001b[43m,\u001b[49m\n\u001b[1;32m    172\u001b[0m \u001b[43m    \u001b[49m\u001b[43mddof\u001b[49m\u001b[38;5;241;43m=\u001b[39;49m\u001b[38;5;241;43m1\u001b[39;49m\u001b[43m,\u001b[49m\n\u001b[1;32m    173\u001b[0m \u001b[43m\u001b[49m\u001b[43m)\u001b[49m\n\u001b[1;32m    174\u001b[0m \u001b[38;5;28mprint\u001b[39m(\u001b[38;5;124m\"\u001b[39m\u001b[38;5;124mOriginal Units Train MSE:\u001b[39m\u001b[38;5;124m\"\u001b[39m, train_mse)\n\u001b[1;32m    175\u001b[0m \u001b[38;5;28mprint\u001b[39m(\u001b[38;5;124m\"\u001b[39m\u001b[38;5;124mOriginal Units Train RMSE:\u001b[39m\u001b[38;5;124m\"\u001b[39m, train_rmse)\n",
      "File \u001b[0;32m~/anaconda3/envs/proteo/lib/python3.11/site-packages/scipy/stats/_stats_py.py:2992\u001b[0m, in \u001b[0;36mzscore\u001b[0;34m(a, axis, ddof, nan_policy)\u001b[0m\n\u001b[1;32m   2910\u001b[0m \u001b[38;5;28;01mdef\u001b[39;00m \u001b[38;5;21mzscore\u001b[39m(a, axis\u001b[38;5;241m=\u001b[39m\u001b[38;5;241m0\u001b[39m, ddof\u001b[38;5;241m=\u001b[39m\u001b[38;5;241m0\u001b[39m, nan_policy\u001b[38;5;241m=\u001b[39m\u001b[38;5;124m'\u001b[39m\u001b[38;5;124mpropagate\u001b[39m\u001b[38;5;124m'\u001b[39m):\n\u001b[1;32m   2911\u001b[0m \u001b[38;5;250m    \u001b[39m\u001b[38;5;124;03m\"\"\"\u001b[39;00m\n\u001b[1;32m   2912\u001b[0m \u001b[38;5;124;03m    Compute the z score.\u001b[39;00m\n\u001b[1;32m   2913\u001b[0m \n\u001b[0;32m   (...)\u001b[0m\n\u001b[1;32m   2990\u001b[0m \u001b[38;5;124;03m           [-0.91611681, -0.89090508,  1.4983032 ,  0.88731639, -0.5785977 ]])\u001b[39;00m\n\u001b[1;32m   2991\u001b[0m \u001b[38;5;124;03m    \"\"\"\u001b[39;00m\n\u001b[0;32m-> 2992\u001b[0m     \u001b[38;5;28;01mreturn\u001b[39;00m \u001b[43mzmap\u001b[49m\u001b[43m(\u001b[49m\u001b[43ma\u001b[49m\u001b[43m,\u001b[49m\u001b[43m \u001b[49m\u001b[43ma\u001b[49m\u001b[43m,\u001b[49m\u001b[43m \u001b[49m\u001b[43maxis\u001b[49m\u001b[38;5;241;43m=\u001b[39;49m\u001b[43maxis\u001b[49m\u001b[43m,\u001b[49m\u001b[43m \u001b[49m\u001b[43mddof\u001b[49m\u001b[38;5;241;43m=\u001b[39;49m\u001b[43mddof\u001b[49m\u001b[43m,\u001b[49m\u001b[43m \u001b[49m\u001b[43mnan_policy\u001b[49m\u001b[38;5;241;43m=\u001b[39;49m\u001b[43mnan_policy\u001b[49m\u001b[43m)\u001b[49m\n",
      "File \u001b[0;32m~/anaconda3/envs/proteo/lib/python3.11/site-packages/scipy/stats/_stats_py.py:3168\u001b[0m, in \u001b[0;36mzmap\u001b[0;34m(scores, compare, axis, ddof, nan_policy)\u001b[0m\n\u001b[1;32m   3166\u001b[0m \u001b[38;5;66;03m# Set std deviations that are 0 to 1 to avoid division by 0.\u001b[39;00m\n\u001b[1;32m   3167\u001b[0m std[isconst] \u001b[38;5;241m=\u001b[39m \u001b[38;5;241m1.0\u001b[39m\n\u001b[0;32m-> 3168\u001b[0m z \u001b[38;5;241m=\u001b[39m (\u001b[43mscores\u001b[49m\u001b[43m \u001b[49m\u001b[38;5;241;43m-\u001b[39;49m\u001b[43m \u001b[49m\u001b[43mmn\u001b[49m) \u001b[38;5;241m/\u001b[39m std\n\u001b[1;32m   3169\u001b[0m \u001b[38;5;66;03m# Set the outputs associated with a constant input to nan.\u001b[39;00m\n\u001b[1;32m   3170\u001b[0m z[np\u001b[38;5;241m.\u001b[39mbroadcast_to(isconst, z\u001b[38;5;241m.\u001b[39mshape)] \u001b[38;5;241m=\u001b[39m np\u001b[38;5;241m.\u001b[39mnan\n",
      "File \u001b[0;32m~/anaconda3/envs/proteo/lib/python3.11/site-packages/numpy/_core/_internal.py:876\u001b[0m, in \u001b[0;36marray_ufunc_errmsg_formatter\u001b[0;34m(dummy, ufunc, method, *inputs, **kwargs)\u001b[0m\n\u001b[1;32m    874\u001b[0m \u001b[38;5;28;01mdef\u001b[39;00m \u001b[38;5;21marray_ufunc_errmsg_formatter\u001b[39m(dummy, ufunc, method, \u001b[38;5;241m*\u001b[39minputs, \u001b[38;5;241m*\u001b[39m\u001b[38;5;241m*\u001b[39mkwargs):\n\u001b[1;32m    875\u001b[0m \u001b[38;5;250m    \u001b[39m\u001b[38;5;124;03m\"\"\" Format the error message for when __array_ufunc__ gives up. \"\"\"\u001b[39;00m\n\u001b[0;32m--> 876\u001b[0m     args_string \u001b[38;5;241m=\u001b[39m \u001b[38;5;124m'\u001b[39m\u001b[38;5;124m, \u001b[39m\u001b[38;5;124m'\u001b[39m\u001b[38;5;241m.\u001b[39mjoin(\u001b[43m[\u001b[49m\u001b[38;5;124;43m'\u001b[39;49m\u001b[38;5;132;43;01m{!r}\u001b[39;49;00m\u001b[38;5;124;43m'\u001b[39;49m\u001b[38;5;241;43m.\u001b[39;49m\u001b[43mformat\u001b[49m\u001b[43m(\u001b[49m\u001b[43marg\u001b[49m\u001b[43m)\u001b[49m\u001b[43m \u001b[49m\u001b[38;5;28;43;01mfor\u001b[39;49;00m\u001b[43m \u001b[49m\u001b[43marg\u001b[49m\u001b[43m \u001b[49m\u001b[38;5;129;43;01min\u001b[39;49;00m\u001b[43m \u001b[49m\u001b[43minputs\u001b[49m\u001b[43m]\u001b[49m \u001b[38;5;241m+\u001b[39m\n\u001b[1;32m    877\u001b[0m                             [\u001b[38;5;124m'\u001b[39m\u001b[38;5;132;01m{}\u001b[39;00m\u001b[38;5;124m=\u001b[39m\u001b[38;5;132;01m{!r}\u001b[39;00m\u001b[38;5;124m'\u001b[39m\u001b[38;5;241m.\u001b[39mformat(k, v)\n\u001b[1;32m    878\u001b[0m                              \u001b[38;5;28;01mfor\u001b[39;00m k, v \u001b[38;5;129;01min\u001b[39;00m kwargs\u001b[38;5;241m.\u001b[39mitems()])\n\u001b[1;32m    879\u001b[0m     args \u001b[38;5;241m=\u001b[39m inputs \u001b[38;5;241m+\u001b[39m kwargs\u001b[38;5;241m.\u001b[39mget(\u001b[38;5;124m'\u001b[39m\u001b[38;5;124mout\u001b[39m\u001b[38;5;124m'\u001b[39m, ())\n\u001b[1;32m    880\u001b[0m     types_string \u001b[38;5;241m=\u001b[39m \u001b[38;5;124m'\u001b[39m\u001b[38;5;124m, \u001b[39m\u001b[38;5;124m'\u001b[39m\u001b[38;5;241m.\u001b[39mjoin(\u001b[38;5;28mrepr\u001b[39m(\u001b[38;5;28mtype\u001b[39m(arg)\u001b[38;5;241m.\u001b[39m\u001b[38;5;18m__name__\u001b[39m) \u001b[38;5;28;01mfor\u001b[39;00m arg \u001b[38;5;129;01min\u001b[39;00m args)\n",
      "File \u001b[0;32m~/anaconda3/envs/proteo/lib/python3.11/site-packages/numpy/_core/_internal.py:876\u001b[0m, in \u001b[0;36m<listcomp>\u001b[0;34m(.0)\u001b[0m\n\u001b[1;32m    874\u001b[0m \u001b[38;5;28;01mdef\u001b[39;00m \u001b[38;5;21marray_ufunc_errmsg_formatter\u001b[39m(dummy, ufunc, method, \u001b[38;5;241m*\u001b[39minputs, \u001b[38;5;241m*\u001b[39m\u001b[38;5;241m*\u001b[39mkwargs):\n\u001b[1;32m    875\u001b[0m \u001b[38;5;250m    \u001b[39m\u001b[38;5;124;03m\"\"\" Format the error message for when __array_ufunc__ gives up. \"\"\"\u001b[39;00m\n\u001b[0;32m--> 876\u001b[0m     args_string \u001b[38;5;241m=\u001b[39m \u001b[38;5;124m'\u001b[39m\u001b[38;5;124m, \u001b[39m\u001b[38;5;124m'\u001b[39m\u001b[38;5;241m.\u001b[39mjoin([\u001b[38;5;124;43m'\u001b[39;49m\u001b[38;5;132;43;01m{!r}\u001b[39;49;00m\u001b[38;5;124;43m'\u001b[39;49m\u001b[38;5;241;43m.\u001b[39;49m\u001b[43mformat\u001b[49m\u001b[43m(\u001b[49m\u001b[43marg\u001b[49m\u001b[43m)\u001b[49m \u001b[38;5;28;01mfor\u001b[39;00m arg \u001b[38;5;129;01min\u001b[39;00m inputs] \u001b[38;5;241m+\u001b[39m\n\u001b[1;32m    877\u001b[0m                             [\u001b[38;5;124m'\u001b[39m\u001b[38;5;132;01m{}\u001b[39;00m\u001b[38;5;124m=\u001b[39m\u001b[38;5;132;01m{!r}\u001b[39;00m\u001b[38;5;124m'\u001b[39m\u001b[38;5;241m.\u001b[39mformat(k, v)\n\u001b[1;32m    878\u001b[0m                              \u001b[38;5;28;01mfor\u001b[39;00m k, v \u001b[38;5;129;01min\u001b[39;00m kwargs\u001b[38;5;241m.\u001b[39mitems()])\n\u001b[1;32m    879\u001b[0m     args \u001b[38;5;241m=\u001b[39m inputs \u001b[38;5;241m+\u001b[39m kwargs\u001b[38;5;241m.\u001b[39mget(\u001b[38;5;124m'\u001b[39m\u001b[38;5;124mout\u001b[39m\u001b[38;5;124m'\u001b[39m, ())\n\u001b[1;32m    880\u001b[0m     types_string \u001b[38;5;241m=\u001b[39m \u001b[38;5;124m'\u001b[39m\u001b[38;5;124m, \u001b[39m\u001b[38;5;124m'\u001b[39m\u001b[38;5;241m.\u001b[39mjoin(\u001b[38;5;28mrepr\u001b[39m(\u001b[38;5;28mtype\u001b[39m(arg)\u001b[38;5;241m.\u001b[39m\u001b[38;5;18m__name__\u001b[39m) \u001b[38;5;28;01mfor\u001b[39;00m arg \u001b[38;5;129;01min\u001b[39;00m args)\n",
      "File \u001b[0;32m~/anaconda3/envs/proteo/lib/python3.11/site-packages/numpy/_core/arrayprint.py:1578\u001b[0m, in \u001b[0;36m_array_repr_implementation\u001b[0;34m(arr, max_line_width, precision, suppress_small, array2string)\u001b[0m\n\u001b[1;32m   1575\u001b[0m \u001b[38;5;28;01melse\u001b[39;00m:\n\u001b[1;32m   1576\u001b[0m     class_name \u001b[38;5;241m=\u001b[39m \u001b[38;5;124m\"\u001b[39m\u001b[38;5;124marray\u001b[39m\u001b[38;5;124m\"\u001b[39m\n\u001b[0;32m-> 1578\u001b[0m skipdtype \u001b[38;5;241m=\u001b[39m \u001b[43mdtype_is_implied\u001b[49m\u001b[43m(\u001b[49m\u001b[43marr\u001b[49m\u001b[38;5;241;43m.\u001b[39;49m\u001b[43mdtype\u001b[49m\u001b[43m)\u001b[49m \u001b[38;5;129;01mand\u001b[39;00m arr\u001b[38;5;241m.\u001b[39msize \u001b[38;5;241m>\u001b[39m \u001b[38;5;241m0\u001b[39m\n\u001b[1;32m   1580\u001b[0m prefix \u001b[38;5;241m=\u001b[39m class_name \u001b[38;5;241m+\u001b[39m \u001b[38;5;124m\"\u001b[39m\u001b[38;5;124m(\u001b[39m\u001b[38;5;124m\"\u001b[39m\n\u001b[1;32m   1581\u001b[0m suffix \u001b[38;5;241m=\u001b[39m \u001b[38;5;124m\"\u001b[39m\u001b[38;5;124m)\u001b[39m\u001b[38;5;124m\"\u001b[39m \u001b[38;5;28;01mif\u001b[39;00m skipdtype \u001b[38;5;28;01melse\u001b[39;00m \u001b[38;5;124m\"\u001b[39m\u001b[38;5;124m,\u001b[39m\u001b[38;5;124m\"\u001b[39m\n",
      "File \u001b[0;32m~/anaconda3/envs/proteo/lib/python3.11/site-packages/numpy/_core/arrayprint.py:1514\u001b[0m, in \u001b[0;36mdtype_is_implied\u001b[0;34m(dtype)\u001b[0m\n\u001b[1;32m   1487\u001b[0m \u001b[38;5;28;01mdef\u001b[39;00m \u001b[38;5;21mdtype_is_implied\u001b[39m(dtype):\n\u001b[1;32m   1488\u001b[0m \u001b[38;5;250m    \u001b[39m\u001b[38;5;124;03m\"\"\"\u001b[39;00m\n\u001b[1;32m   1489\u001b[0m \u001b[38;5;124;03m    Determine if the given dtype is implied by the representation\u001b[39;00m\n\u001b[1;32m   1490\u001b[0m \u001b[38;5;124;03m    of its values.\u001b[39;00m\n\u001b[0;32m   (...)\u001b[0m\n\u001b[1;32m   1512\u001b[0m \u001b[38;5;124;03m    array([1, 2, 3], dtype=int8)\u001b[39;00m\n\u001b[1;32m   1513\u001b[0m \u001b[38;5;124;03m    \"\"\"\u001b[39;00m\n\u001b[0;32m-> 1514\u001b[0m     dtype \u001b[38;5;241m=\u001b[39m \u001b[43mnp\u001b[49m\u001b[38;5;241;43m.\u001b[39;49m\u001b[43mdtype\u001b[49m\u001b[43m(\u001b[49m\u001b[43mdtype\u001b[49m\u001b[43m)\u001b[49m\n\u001b[1;32m   1515\u001b[0m     \u001b[38;5;28;01mif\u001b[39;00m format_options\u001b[38;5;241m.\u001b[39mget()[\u001b[38;5;124m'\u001b[39m\u001b[38;5;124mlegacy\u001b[39m\u001b[38;5;124m'\u001b[39m] \u001b[38;5;241m<\u001b[39m\u001b[38;5;241m=\u001b[39m \u001b[38;5;241m113\u001b[39m \u001b[38;5;129;01mand\u001b[39;00m dtype\u001b[38;5;241m.\u001b[39mtype \u001b[38;5;241m==\u001b[39m np\u001b[38;5;241m.\u001b[39mbool:\n\u001b[1;32m   1516\u001b[0m         \u001b[38;5;28;01mreturn\u001b[39;00m \u001b[38;5;28;01mFalse\u001b[39;00m\n",
      "\u001b[0;31mTypeError\u001b[0m: expected 0 arguments, got 1"
     ]
    }
   ],
   "source": [
    "# Sex_specific_adj no sex\n",
    "checkpoint1 = \"/home/lcornelis/code/proteo/outputs/ray_results/TorchTrainer_2024-10-15_15-51-21/model=gat-v4,seed=15680_180_act=tanh,adj_thresh=0.3500,batch_size=32,dropout=0.1000,l1_lambda=0.0007,lr=0.0005,lr_scheduler=Lambda_2024-10-15_15-51-23/checkpoint_000001\"\n",
    "checkpoint2 = \"/home/lcornelis/code/proteo/outputs/ray_results/TorchTrainer_2024-10-15_15-51-21/model=gat-v4,seed=60527_226_act=tanh,adj_thresh=0.9000,batch_size=32,dropout=0,l1_lambda=0.0025,lr=0.0006,lr_scheduler=LambdaLR,mo_2024-10-15_17-14-43/checkpoint_000006\"\n",
    "full_load_and_run_and_convert(checkpoint1 ,device, csf_all_mean, csf_all_std)"
   ]
  },
  {
   "cell_type": "code",
   "execution_count": 5,
   "metadata": {},
   "outputs": [
    {
     "name": "stdout",
     "output_type": "stream",
     "text": [
      "0.2644430100917816\n"
     ]
    }
   ],
   "source": [
    "#Sanity check\n",
    "def compute_manual_mse(val_preds, val_targets):\n",
    "    \"\"\"\n",
    "    Manually computes the Mean Squared Error (MSE) for the given predictions and targets.\n",
    "\n",
    "    Parameters:\n",
    "    val_preds (list of list of torch.Tensor): The predicted values.\n",
    "    val_targets (list of list of torch.Tensor): The true target values.\n",
    "\n",
    "    Returns:\n",
    "    float: The computed Mean Squared Error.\n",
    "    \"\"\"\n",
    "   # Compute the squared differences\n",
    "    squared_diffs = (val_preds - val_targets) ** 2\n",
    "\n",
    "    # Compute the mean of the squared differences\n",
    "    mse = squared_diffs.mean().item()\n",
    "\n",
    "    return mse\n",
    "\n",
    "print(compute_manual_mse(val_preds, val_targets))"
   ]
  },
  {
   "cell_type": "code",
   "execution_count": 13,
   "metadata": {},
   "outputs": [
    {
     "name": "stdout",
     "output_type": "stream",
     "text": [
      "Loading checkpoint from: /scratch/lcornelis/outputs/ray_results/TorchTrainer_2024-07-31_15-31-35/model=gat-v4,seed=19543_0_act=relu,adj_thresh=0.1000,batch_size=8,dropout=0,l1_lambda=0.0000,lr=0.1000,lr_scheduler=LambdaLR,modal_2024-07-31_15-31-36/checkpoint_000001/checkpoint.ckpt\n",
      "Checkpoint keys: dict_keys(['epoch', 'global_step', 'pytorch-lightning_version', 'state_dict', 'loops', 'callbacks', 'optimizer_states', 'lr_schedulers', 'hparams_name', 'hyper_parameters'])\n",
      "checkpoint state_dict keys: odict_keys(['model.convs.0.att_src', 'model.convs.0.att_dst', 'model.convs.0.bias', 'model.convs.0.lin.weight', 'model.convs.1.att_src', 'model.convs.1.att_dst', 'model.convs.1.bias', 'model.convs.1.lin.weight', 'model.pools.0.weight', 'model.pools.0.bias', 'model.pools.1.weight', 'model.pools.1.bias', 'model.layer_norm.weight', 'model.layer_norm.bias', 'model.encoder.0.0.weight', 'model.encoder.0.0.bias', 'model.encoder.1.0.weight', 'model.encoder.1.0.bias', 'model.encoder.2.0.weight', 'model.encoder.2.0.bias', 'model.encoder.3.0.weight', 'model.encoder.3.0.bias', 'model.encoder.4.weight', 'model.encoder.4.bias'])\n"
     ]
    }
   ],
   "source": [
    "import os\n",
    "import torch\n",
    "import torch.nn.functional as F\n",
    "import train as proteo_train\n",
    "\n",
    "# Define a function to load the checkpoint and calculate MSE\n",
    "def load_checkpoint_and_calculate_mse(relative_checkpoint_path, levels_up=5):\n",
    "    # Get the current script directory\n",
    "    current_directory = os.getcwd()\n",
    "    \n",
    "    # Navigate up the specified number of levels\n",
    "    for _ in range(levels_up):\n",
    "        current_directory = os.path.dirname(current_directory)\n",
    "    \n",
    "    # Construct the full path to the checkpoint\n",
    "    checkpoint_path = os.path.join(current_directory, relative_checkpoint_path)\n",
    "    print(f\"Loading checkpoint from: {checkpoint_path}\")\n",
    "\n",
    "    # Check if the file exists to avoid errors\n",
    "    if not os.path.isfile(checkpoint_path):\n",
    "        raise FileNotFoundError(f\"Checkpoint file not found: {checkpoint_path}\")\n",
    "\n",
    "    # Load the checkpoint\n",
    "    checkpoint = torch.load(checkpoint_path)\n",
    "    print(\"Checkpoint keys:\", checkpoint.keys())\n",
    "    print(\"checkpoint state_dict keys:\", checkpoint['state_dict'].keys())\n",
    "\n",
    "    module = proteo_train.Proteo.load_from_checkpoint(checkpoint_path)\n",
    "\n",
    "    # Access the attributes\n",
    "    # best_val_pred = module.best_val_pred\n",
    "    # print(\"best_val_pred:\", best_val_pred)\n",
    "    # # print(\"min_val loss:\", module.val_loss)\n",
    "    # best_val_target = module.best_val_target\n",
    "    # best_train_pred = module.best_train_pred\n",
    "    # best_train_target = module.best_train_target\n",
    "\n",
    "    # # Calculate MSE for validation and training\n",
    "    # mse_val = F.mse_loss(best_val_pred, best_val_target).item()\n",
    "    # mse_train = F.mse_loss(best_train_pred, best_train_target).item()\n",
    "\n",
    "    return module, checkpoint\n",
    "\n",
    "# Example usage\n",
    "relative_checkpoint_path = '/scratch/lcornelis/outputs/ray_results/TorchTrainer_2024-07-31_16-47-02/model=gat-v4,seed=19543_0_act=relu,adj_thresh=0.1000,batch_size=8,dropout=0,l1_lambda=0.0000,lr=0.1000,lr_scheduler=LambdaLR,modal_2024-07-31_16-47-02/checkpoint_000001/checkpoint.cpkt'\n",
    "module, checkpoint = load_checkpoint_and_calculate_mse(relative_checkpoint_path)\n",
    "# print(f\"MSE Loss for validation set: {mse_val}\")\n",
    "# print(f\"MSE Loss for training set: {mse_train}\")\n"
   ]
  }
 ],
 "metadata": {
  "kernelspec": {
   "display_name": "proteo",
   "language": "python",
   "name": "python3"
  },
  "language_info": {
   "codemirror_mode": {
    "name": "ipython",
    "version": 3
   },
   "file_extension": ".py",
   "mimetype": "text/x-python",
   "name": "python",
   "nbconvert_exporter": "python",
   "pygments_lexer": "ipython3",
   "version": "3.11.10"
  }
 },
 "nbformat": 4,
 "nbformat_minor": 2
}
