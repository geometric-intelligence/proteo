{
 "cells": [
  {
   "cell_type": "code",
   "execution_count": 5,
   "id": "cb2ad37c-7f0d-45f3-a5d1-461253032cb3",
   "metadata": {},
   "outputs": [
    {
     "name": "stdout",
     "output_type": "stream",
     "text": [
      "         Mixed Linear Model Regression Results\n",
      "========================================================\n",
      "Model:            MixedLM Dependent Variable: Weight    \n",
      "No. Observations: 861     Method:             REML      \n",
      "No. Groups:       72      Scale:              11.3669   \n",
      "Min. group size:  11      Log-Likelihood:     -2404.7753\n",
      "Max. group size:  12      Converged:          Yes       \n",
      "Mean group size:  12.0                                  \n",
      "--------------------------------------------------------\n",
      "             Coef.  Std.Err.    z    P>|z| [0.025 0.975]\n",
      "--------------------------------------------------------\n",
      "Intercept    15.724    0.788  19.952 0.000 14.179 17.268\n",
      "Time          6.943    0.033 207.939 0.000  6.877  7.008\n",
      "Group Var    40.394    2.149                            \n",
      "========================================================\n",
      "\n"
     ]
    }
   ],
   "source": [
    "import statsmodels.api as sm\n",
    "\n",
    "import statsmodels.formula.api as smf\n",
    "\n",
    "# Loads the 'dietox' dataset from the 'geepack' package using the get_rdataset function. The dataset contains information about the weight of pigs over time.\n",
    "data = sm.datasets.get_rdataset(\"dietox\", \"geepack\").data\n",
    "\n",
    "# Creates a mixed-effects model using the formula \"Weight ~ Time\". \n",
    "'''Weight is dependent, time is fixed. Fixed vars are use to make inferences about the average effect of these levels on the dependent variable. \n",
    "Fixed variables are also sometimes called fixed effects. Unlike random effects, fixed effects are not considered to be random variables with a distribution. \n",
    "Instead, fixed effects are treated as fixed constants representing the average effect of each level. (time is same for each weight). Longitudinal!'''\n",
    "# The response variable is \"Weight,\" and the fixed effect predictor is \"Time.\" \n",
    "# The groups argument specifies that the random effects are grouped by the \"Pig\" variable. \n",
    "# This means that the model accounts for individual differences among pigs.\n",
    "md = smf.mixedlm(\"Weight ~ Time\", data, groups=data[\"Pig\"])\n",
    "\n",
    "# Fit model to the data.\n",
    "mdf = md.fit()\n",
    "\n",
    "# Prints model summary.\n",
    "print(mdf.summary())"
   ]
  },
  {
   "cell_type": "code",
   "execution_count": 4,
   "id": "d7474e04-7959-400e-a4bf-3a2f13d4ebcc",
   "metadata": {},
   "outputs": [
    {
     "name": "stdout",
     "output_type": "stream",
     "text": [
      "/Users/louisacornelis/code/proteo/env/bin/python\n"
     ]
    }
   ],
   "source": [
    "import sys\n",
    "print(sys.executable)"
   ]
  },
  {
   "cell_type": "code",
   "execution_count": null,
   "id": "f0cb735a-bd93-42cb-8768-418c0b8ef406",
   "metadata": {},
   "outputs": [],
   "source": []
  }
 ],
 "metadata": {
  "kernelspec": {
   "display_name": "Python 3 (ipykernel)",
   "language": "python",
   "name": "python3"
  },
  "language_info": {
   "codemirror_mode": {
    "name": "ipython",
    "version": 3
   },
   "file_extension": ".py",
   "mimetype": "text/x-python",
   "name": "python",
   "nbconvert_exporter": "python",
   "pygments_lexer": "ipython3",
   "version": "3.11.7"
  }
 },
 "nbformat": 4,
 "nbformat_minor": 5
}
